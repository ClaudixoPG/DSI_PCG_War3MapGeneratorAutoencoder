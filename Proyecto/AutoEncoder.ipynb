{
 "cells": [
  {
   "cell_type": "markdown",
   "metadata": {},
   "source": [
    "# Import Libraries"
   ]
  },
  {
   "cell_type": "code",
   "execution_count": 1,
   "metadata": {},
   "outputs": [],
   "source": [
    "#Load json files into pandas dataframe\n",
    "import pandas as pd\n",
    "import os\n",
    "import numpy as np\n",
    "import json\n",
    "import Utilities as utils"
   ]
  },
  {
   "cell_type": "markdown",
   "metadata": {},
   "source": [
    "# Loading Data "
   ]
  },
  {
   "cell_type": "code",
   "execution_count": 2,
   "metadata": {},
   "outputs": [
    {
     "data": {
      "text/html": [
       "<div>\n",
       "<style scoped>\n",
       "    .dataframe tbody tr th:only-of-type {\n",
       "        vertical-align: middle;\n",
       "    }\n",
       "\n",
       "    .dataframe tbody tr th {\n",
       "        vertical-align: top;\n",
       "    }\n",
       "\n",
       "    .dataframe thead th {\n",
       "        text-align: right;\n",
       "    }\n",
       "</style>\n",
       "<table border=\"1\" class=\"dataframe\">\n",
       "  <thead>\n",
       "    <tr style=\"text-align: right;\">\n",
       "      <th></th>\n",
       "      <th>errors</th>\n",
       "      <th>json.tileset</th>\n",
       "      <th>json.customTileset</th>\n",
       "      <th>json.tilePalette</th>\n",
       "      <th>json.cliffTilePalette</th>\n",
       "      <th>json.map.width</th>\n",
       "      <th>json.map.height</th>\n",
       "      <th>json.map.offset.x</th>\n",
       "      <th>json.map.offset.y</th>\n",
       "      <th>json.groundHeight</th>\n",
       "      <th>json.waterHeight</th>\n",
       "      <th>json.boundaryFlag</th>\n",
       "      <th>json.flags</th>\n",
       "      <th>json.groundTexture</th>\n",
       "      <th>json.groundVariation</th>\n",
       "      <th>json.cliffVariation</th>\n",
       "      <th>json.cliffTexture</th>\n",
       "      <th>json.layerHeight</th>\n",
       "    </tr>\n",
       "  </thead>\n",
       "  <tbody>\n",
       "    <tr>\n",
       "      <th>0</th>\n",
       "      <td>[]</td>\n",
       "      <td>Z</td>\n",
       "      <td>False</td>\n",
       "      <td>[Zdrt, Zdtr, Zdrg, Zbks, Zsan, Zbkl, Ztil, Zgr...</td>\n",
       "      <td>[CZdi, CZlb]</td>\n",
       "      <td>96</td>\n",
       "      <td>96</td>\n",
       "      <td>-6144</td>\n",
       "      <td>-6144</td>\n",
       "      <td>[8192, 8192, 8192, 8192, 8192, 8192, 8192, 819...</td>\n",
       "      <td>[8192, 8192, 8192, 8192, 8192, 8192, 8192, 819...</td>\n",
       "      <td>[False, False, False, False, False, False, Fal...</td>\n",
       "      <td>[0, 0, 0, 0, 0, 0, 0, 0, 0, 0, 0, 0, 0, 0, 0, ...</td>\n",
       "      <td>[7, 7, 7, 7, 7, 7, 8, 8, 7, 7, 7, 7, 7, 1, 1, ...</td>\n",
       "      <td>[64, 48, 8, 40, 72, 72, 32, 32, 0, 40, 64, 8, ...</td>\n",
       "      <td>[0, 0, 0, 0, 0, 1, 6, 0, 4, 4, 4, 4, 4, 1, 4, ...</td>\n",
       "      <td>[0, 0, 0, 0, 0, 0, 0, 0, 0, 0, 0, 0, 0, 0, 0, ...</td>\n",
       "      <td>[2, 2, 2, 2, 2, 2, 2, 2, 3, 3, 3, 3, 3, 3, 3, ...</td>\n",
       "    </tr>\n",
       "    <tr>\n",
       "      <th>1</th>\n",
       "      <td>[]</td>\n",
       "      <td>B</td>\n",
       "      <td>False</td>\n",
       "      <td>[Bdrt, Bdrh, Bdrr, Bdrg, Bdsr, Bdsd, Bflr, Bgrr]</td>\n",
       "      <td>[CBde, CBgr]</td>\n",
       "      <td>96</td>\n",
       "      <td>96</td>\n",
       "      <td>-6144</td>\n",
       "      <td>-8192</td>\n",
       "      <td>[8192, 8192, 8192, 8192, 8192, 8192, 8192, 819...</td>\n",
       "      <td>[24576, 24576, 24576, 24576, 24576, 24576, 819...</td>\n",
       "      <td>[True, True, True, True, True, True, False, Fa...</td>\n",
       "      <td>[0, 0, 0, 0, 0, 0, 0, 0, 0, 0, 0, 0, 0, 0, 0, ...</td>\n",
       "      <td>[7, 7, 7, 7, 7, 7, 7, 7, 7, 7, 7, 7, 7, 7, 7, ...</td>\n",
       "      <td>[8, 8, 0, 8, 8, 16, 16, 0, 0, 0, 16, 8, 16, 8,...</td>\n",
       "      <td>[0, 4, 4, 0, 0, 0, 0, 0, 0, 0, 0, 4, 0, 4, 4, ...</td>\n",
       "      <td>[240, 240, 240, 240, 240, 240, 240, 240, 240, ...</td>\n",
       "      <td>[2, 2, 2, 2, 2, 2, 2, 2, 2, 2, 2, 2, 2, 2, 2, ...</td>\n",
       "    </tr>\n",
       "    <tr>\n",
       "      <th>2</th>\n",
       "      <td>[]</td>\n",
       "      <td>Y</td>\n",
       "      <td>False</td>\n",
       "      <td>[Ydrt, Ydtr, Yblm, Ybtl, Ysqd, Yrtl, Ygsb, Yhd...</td>\n",
       "      <td>[CYdi, CYsq]</td>\n",
       "      <td>96</td>\n",
       "      <td>96</td>\n",
       "      <td>-6144</td>\n",
       "      <td>-6144</td>\n",
       "      <td>[8192, 8192, 8192, 8192, 8192, 8192, 8192, 819...</td>\n",
       "      <td>[8192, 8192, 8192, 8192, 8192, 8192, 8192, 819...</td>\n",
       "      <td>[False, False, False, False, False, False, Fal...</td>\n",
       "      <td>[0, 0, 0, 0, 0, 0, 0, 0, 0, 0, 0, 0, 0, 0, 0, ...</td>\n",
       "      <td>[6, 6, 6, 6, 6, 6, 6, 6, 6, 6, 6, 6, 6, 6, 6, ...</td>\n",
       "      <td>[0, 8, 16, 16, 16, 16, 0, 16, 0, 0, 0, 0, 8, 1...</td>\n",
       "      <td>[0, 0, 0, 1, 1, 0, 5, 1, 4, 0, 4, 0, 0, 1, 0, ...</td>\n",
       "      <td>[240, 240, 240, 240, 240, 240, 240, 240, 240, ...</td>\n",
       "      <td>[2, 2, 2, 2, 2, 2, 2, 2, 2, 2, 2, 2, 2, 2, 2, ...</td>\n",
       "    </tr>\n",
       "    <tr>\n",
       "      <th>3</th>\n",
       "      <td>[]</td>\n",
       "      <td>N</td>\n",
       "      <td>False</td>\n",
       "      <td>[Ndrt, Ndrd, Nrck, Ngrs, Nice, Nsnw, Nsnr]</td>\n",
       "      <td>[CNdi, CNsn]</td>\n",
       "      <td>96</td>\n",
       "      <td>96</td>\n",
       "      <td>-6144</td>\n",
       "      <td>-6144</td>\n",
       "      <td>[8202, 8202, 8202, 8202, 8202, 8202, 8202, 820...</td>\n",
       "      <td>[8192, 8192, 8192, 8192, 8192, 8192, 8192, 819...</td>\n",
       "      <td>[False, False, False, False, False, False, Fal...</td>\n",
       "      <td>[0, 0, 0, 0, 0, 0, 0, 0, 0, 0, 0, 0, 0, 0, 0, ...</td>\n",
       "      <td>[2, 2, 2, 2, 2, 2, 2, 2, 2, 2, 2, 2, 2, 2, 2, ...</td>\n",
       "      <td>[64, 72, 40, 80, 64, 40, 32, 64, 0, 16, 32, 80...</td>\n",
       "      <td>[0, 4, 4, 1, 4, 0, 0, 0, 5, 1, 0, 0, 1, 0, 0, ...</td>\n",
       "      <td>[16, 16, 16, 16, 16, 16, 16, 16, 16, 16, 16, 1...</td>\n",
       "      <td>[3, 3, 3, 3, 3, 3, 3, 3, 3, 3, 3, 3, 3, 3, 3, ...</td>\n",
       "    </tr>\n",
       "    <tr>\n",
       "      <th>4</th>\n",
       "      <td>[]</td>\n",
       "      <td>I</td>\n",
       "      <td>False</td>\n",
       "      <td>[Idrt, Idtr, Idki, Ibkb, Irbk, Itbk, Iice, Ibs...</td>\n",
       "      <td>[CIsn, CIrb]</td>\n",
       "      <td>96</td>\n",
       "      <td>96</td>\n",
       "      <td>-8192</td>\n",
       "      <td>-4096</td>\n",
       "      <td>[9424, 10034, 9702, 10287, 10897, 10897, 10895...</td>\n",
       "      <td>[8192, 8192, 8192, 8192, 8192, 8192, 8192, 819...</td>\n",
       "      <td>[False, False, False, False, False, False, Fal...</td>\n",
       "      <td>[0, 0, 0, 0, 0, 0, 0, 0, 0, 0, 0, 0, 0, 0, 0, ...</td>\n",
       "      <td>[8, 8, 8, 8, 8, 8, 8, 8, 8, 8, 8, 8, 8, 8, 8, ...</td>\n",
       "      <td>[32, 48, 40, 80, 32, 16, 40, 64, 16, 32, 32, 4...</td>\n",
       "      <td>[0, 0, 5, 0, 0, 1, 0, 0, 1, 0, 4, 0, 0, 4, 1, ...</td>\n",
       "      <td>[240, 240, 240, 240, 240, 240, 240, 240, 240, ...</td>\n",
       "      <td>[2, 2, 2, 2, 2, 2, 2, 2, 2, 2, 2, 2, 2, 2, 2, ...</td>\n",
       "    </tr>\n",
       "  </tbody>\n",
       "</table>\n",
       "</div>"
      ],
      "text/plain": [
       "  errors json.tileset  json.customTileset  \\\n",
       "0     []            Z               False   \n",
       "1     []            B               False   \n",
       "2     []            Y               False   \n",
       "3     []            N               False   \n",
       "4     []            I               False   \n",
       "\n",
       "                                    json.tilePalette json.cliffTilePalette  \\\n",
       "0  [Zdrt, Zdtr, Zdrg, Zbks, Zsan, Zbkl, Ztil, Zgr...          [CZdi, CZlb]   \n",
       "1   [Bdrt, Bdrh, Bdrr, Bdrg, Bdsr, Bdsd, Bflr, Bgrr]          [CBde, CBgr]   \n",
       "2  [Ydrt, Ydtr, Yblm, Ybtl, Ysqd, Yrtl, Ygsb, Yhd...          [CYdi, CYsq]   \n",
       "3         [Ndrt, Ndrd, Nrck, Ngrs, Nice, Nsnw, Nsnr]          [CNdi, CNsn]   \n",
       "4  [Idrt, Idtr, Idki, Ibkb, Irbk, Itbk, Iice, Ibs...          [CIsn, CIrb]   \n",
       "\n",
       "   json.map.width  json.map.height  json.map.offset.x  json.map.offset.y  \\\n",
       "0              96               96              -6144              -6144   \n",
       "1              96               96              -6144              -8192   \n",
       "2              96               96              -6144              -6144   \n",
       "3              96               96              -6144              -6144   \n",
       "4              96               96              -8192              -4096   \n",
       "\n",
       "                                   json.groundHeight  \\\n",
       "0  [8192, 8192, 8192, 8192, 8192, 8192, 8192, 819...   \n",
       "1  [8192, 8192, 8192, 8192, 8192, 8192, 8192, 819...   \n",
       "2  [8192, 8192, 8192, 8192, 8192, 8192, 8192, 819...   \n",
       "3  [8202, 8202, 8202, 8202, 8202, 8202, 8202, 820...   \n",
       "4  [9424, 10034, 9702, 10287, 10897, 10897, 10895...   \n",
       "\n",
       "                                    json.waterHeight  \\\n",
       "0  [8192, 8192, 8192, 8192, 8192, 8192, 8192, 819...   \n",
       "1  [24576, 24576, 24576, 24576, 24576, 24576, 819...   \n",
       "2  [8192, 8192, 8192, 8192, 8192, 8192, 8192, 819...   \n",
       "3  [8192, 8192, 8192, 8192, 8192, 8192, 8192, 819...   \n",
       "4  [8192, 8192, 8192, 8192, 8192, 8192, 8192, 819...   \n",
       "\n",
       "                                   json.boundaryFlag  \\\n",
       "0  [False, False, False, False, False, False, Fal...   \n",
       "1  [True, True, True, True, True, True, False, Fa...   \n",
       "2  [False, False, False, False, False, False, Fal...   \n",
       "3  [False, False, False, False, False, False, Fal...   \n",
       "4  [False, False, False, False, False, False, Fal...   \n",
       "\n",
       "                                          json.flags  \\\n",
       "0  [0, 0, 0, 0, 0, 0, 0, 0, 0, 0, 0, 0, 0, 0, 0, ...   \n",
       "1  [0, 0, 0, 0, 0, 0, 0, 0, 0, 0, 0, 0, 0, 0, 0, ...   \n",
       "2  [0, 0, 0, 0, 0, 0, 0, 0, 0, 0, 0, 0, 0, 0, 0, ...   \n",
       "3  [0, 0, 0, 0, 0, 0, 0, 0, 0, 0, 0, 0, 0, 0, 0, ...   \n",
       "4  [0, 0, 0, 0, 0, 0, 0, 0, 0, 0, 0, 0, 0, 0, 0, ...   \n",
       "\n",
       "                                  json.groundTexture  \\\n",
       "0  [7, 7, 7, 7, 7, 7, 8, 8, 7, 7, 7, 7, 7, 1, 1, ...   \n",
       "1  [7, 7, 7, 7, 7, 7, 7, 7, 7, 7, 7, 7, 7, 7, 7, ...   \n",
       "2  [6, 6, 6, 6, 6, 6, 6, 6, 6, 6, 6, 6, 6, 6, 6, ...   \n",
       "3  [2, 2, 2, 2, 2, 2, 2, 2, 2, 2, 2, 2, 2, 2, 2, ...   \n",
       "4  [8, 8, 8, 8, 8, 8, 8, 8, 8, 8, 8, 8, 8, 8, 8, ...   \n",
       "\n",
       "                                json.groundVariation  \\\n",
       "0  [64, 48, 8, 40, 72, 72, 32, 32, 0, 40, 64, 8, ...   \n",
       "1  [8, 8, 0, 8, 8, 16, 16, 0, 0, 0, 16, 8, 16, 8,...   \n",
       "2  [0, 8, 16, 16, 16, 16, 0, 16, 0, 0, 0, 0, 8, 1...   \n",
       "3  [64, 72, 40, 80, 64, 40, 32, 64, 0, 16, 32, 80...   \n",
       "4  [32, 48, 40, 80, 32, 16, 40, 64, 16, 32, 32, 4...   \n",
       "\n",
       "                                 json.cliffVariation  \\\n",
       "0  [0, 0, 0, 0, 0, 1, 6, 0, 4, 4, 4, 4, 4, 1, 4, ...   \n",
       "1  [0, 4, 4, 0, 0, 0, 0, 0, 0, 0, 0, 4, 0, 4, 4, ...   \n",
       "2  [0, 0, 0, 1, 1, 0, 5, 1, 4, 0, 4, 0, 0, 1, 0, ...   \n",
       "3  [0, 4, 4, 1, 4, 0, 0, 0, 5, 1, 0, 0, 1, 0, 0, ...   \n",
       "4  [0, 0, 5, 0, 0, 1, 0, 0, 1, 0, 4, 0, 0, 4, 1, ...   \n",
       "\n",
       "                                   json.cliffTexture  \\\n",
       "0  [0, 0, 0, 0, 0, 0, 0, 0, 0, 0, 0, 0, 0, 0, 0, ...   \n",
       "1  [240, 240, 240, 240, 240, 240, 240, 240, 240, ...   \n",
       "2  [240, 240, 240, 240, 240, 240, 240, 240, 240, ...   \n",
       "3  [16, 16, 16, 16, 16, 16, 16, 16, 16, 16, 16, 1...   \n",
       "4  [240, 240, 240, 240, 240, 240, 240, 240, 240, ...   \n",
       "\n",
       "                                    json.layerHeight  \n",
       "0  [2, 2, 2, 2, 2, 2, 2, 2, 3, 3, 3, 3, 3, 3, 3, ...  \n",
       "1  [2, 2, 2, 2, 2, 2, 2, 2, 2, 2, 2, 2, 2, 2, 2, ...  \n",
       "2  [2, 2, 2, 2, 2, 2, 2, 2, 2, 2, 2, 2, 2, 2, 2, ...  \n",
       "3  [3, 3, 3, 3, 3, 3, 3, 3, 3, 3, 3, 3, 3, 3, 3, ...  \n",
       "4  [2, 2, 2, 2, 2, 2, 2, 2, 2, 2, 2, 2, 2, 2, 2, ...  "
      ]
     },
     "execution_count": 2,
     "metadata": {},
     "output_type": "execute_result"
    }
   ],
   "source": [
    "\n",
    "#Search for all json files in the directory\n",
    "#path_to_dir = r'C:\\Users\\claud\\Desktop\\ExtractedMaps'\n",
    "path_to_dir= r'C:\\Users\\dsolj\\Desktop\\WARCRAFT_MAPS_JSON_FILES\\ConvertedMaps'\n",
    "#path_to_dir= r'C:\\Users\\dsolj\\Desktop\\WARCRAFT_MAPS_JSON_FILES\\TEST'\n",
    "#path_to_dir = r'D:\\DSI_PCG\\ConvertedMaps'\n",
    "\n",
    "#Create an array to store the names of the json files in the directory\n",
    "json_files = [pos_json for pos_json in os.listdir(path_to_dir) if pos_json.endswith('.json')]\n",
    "#print(json_files)\n",
    "\n",
    "#Create a dataframe to store the data from the json files\n",
    "df = pd.DataFrame()\n",
    "\n",
    "#Loop through each name in the json_files array and load the data into the dataframe\n",
    "for index, js in enumerate(json_files):\n",
    "    #with open(os.path.join(path_to_dir, js)) as json_file:\n",
    "    with open(os.path.join(path_to_dir, js), 'r', encoding='utf-8') as json_file:\n",
    "        json_text = json.load(json_file)\n",
    "        #user concat method to append the dataframes together\n",
    "        values = pd.json_normalize(json_text)\n",
    "\n",
    "        #Check if json.map.width or json.map.height are not equal to 32 -> use to asegurate that maps have same size\n",
    "        #If they are not equal to 32, then print the name of the json file\n",
    "        #if (values['json.map.width'][0] == 32 or values['json.map.height'][0] == 32):\n",
    "            #print map name\n",
    "            #print(js)\n",
    "            #continue\n",
    "\n",
    "        df = pd.concat([df, values], ignore_index=True)\n",
    "        \n",
    "\n",
    "df.head()\n"
   ]
  },
  {
   "cell_type": "markdown",
   "metadata": {},
   "source": [
    "Remove the innecesary columns from dataframe"
   ]
  },
  {
   "cell_type": "code",
   "execution_count": 3,
   "metadata": {},
   "outputs": [
    {
     "data": {
      "text/html": [
       "<div>\n",
       "<style scoped>\n",
       "    .dataframe tbody tr th:only-of-type {\n",
       "        vertical-align: middle;\n",
       "    }\n",
       "\n",
       "    .dataframe tbody tr th {\n",
       "        vertical-align: top;\n",
       "    }\n",
       "\n",
       "    .dataframe thead th {\n",
       "        text-align: right;\n",
       "    }\n",
       "</style>\n",
       "<table border=\"1\" class=\"dataframe\">\n",
       "  <thead>\n",
       "    <tr style=\"text-align: right;\">\n",
       "      <th></th>\n",
       "      <th>json.flags</th>\n",
       "      <th>json.groundTexture</th>\n",
       "      <th>json.groundVariation</th>\n",
       "      <th>json.cliffVariation</th>\n",
       "      <th>json.cliffTexture</th>\n",
       "      <th>json.layerHeight</th>\n",
       "    </tr>\n",
       "  </thead>\n",
       "  <tbody>\n",
       "    <tr>\n",
       "      <th>0</th>\n",
       "      <td>[0, 0, 0, 0, 0, 0, 0, 0, 0, 0, 0, 0, 0, 0, 0, ...</td>\n",
       "      <td>[7, 7, 7, 7, 7, 7, 8, 8, 7, 7, 7, 7, 7, 1, 1, ...</td>\n",
       "      <td>[64, 48, 8, 40, 72, 72, 32, 32, 0, 40, 64, 8, ...</td>\n",
       "      <td>[0, 0, 0, 0, 0, 1, 6, 0, 4, 4, 4, 4, 4, 1, 4, ...</td>\n",
       "      <td>[0, 0, 0, 0, 0, 0, 0, 0, 0, 0, 0, 0, 0, 0, 0, ...</td>\n",
       "      <td>[2, 2, 2, 2, 2, 2, 2, 2, 3, 3, 3, 3, 3, 3, 3, ...</td>\n",
       "    </tr>\n",
       "    <tr>\n",
       "      <th>1</th>\n",
       "      <td>[0, 0, 0, 0, 0, 0, 0, 0, 0, 0, 0, 0, 0, 0, 0, ...</td>\n",
       "      <td>[7, 7, 7, 7, 7, 7, 7, 7, 7, 7, 7, 7, 7, 7, 7, ...</td>\n",
       "      <td>[8, 8, 0, 8, 8, 16, 16, 0, 0, 0, 16, 8, 16, 8,...</td>\n",
       "      <td>[0, 4, 4, 0, 0, 0, 0, 0, 0, 0, 0, 4, 0, 4, 4, ...</td>\n",
       "      <td>[240, 240, 240, 240, 240, 240, 240, 240, 240, ...</td>\n",
       "      <td>[2, 2, 2, 2, 2, 2, 2, 2, 2, 2, 2, 2, 2, 2, 2, ...</td>\n",
       "    </tr>\n",
       "    <tr>\n",
       "      <th>2</th>\n",
       "      <td>[0, 0, 0, 0, 0, 0, 0, 0, 0, 0, 0, 0, 0, 0, 0, ...</td>\n",
       "      <td>[6, 6, 6, 6, 6, 6, 6, 6, 6, 6, 6, 6, 6, 6, 6, ...</td>\n",
       "      <td>[0, 8, 16, 16, 16, 16, 0, 16, 0, 0, 0, 0, 8, 1...</td>\n",
       "      <td>[0, 0, 0, 1, 1, 0, 5, 1, 4, 0, 4, 0, 0, 1, 0, ...</td>\n",
       "      <td>[240, 240, 240, 240, 240, 240, 240, 240, 240, ...</td>\n",
       "      <td>[2, 2, 2, 2, 2, 2, 2, 2, 2, 2, 2, 2, 2, 2, 2, ...</td>\n",
       "    </tr>\n",
       "    <tr>\n",
       "      <th>3</th>\n",
       "      <td>[0, 0, 0, 0, 0, 0, 0, 0, 0, 0, 0, 0, 0, 0, 0, ...</td>\n",
       "      <td>[2, 2, 2, 2, 2, 2, 2, 2, 2, 2, 2, 2, 2, 2, 2, ...</td>\n",
       "      <td>[64, 72, 40, 80, 64, 40, 32, 64, 0, 16, 32, 80...</td>\n",
       "      <td>[0, 4, 4, 1, 4, 0, 0, 0, 5, 1, 0, 0, 1, 0, 0, ...</td>\n",
       "      <td>[16, 16, 16, 16, 16, 16, 16, 16, 16, 16, 16, 1...</td>\n",
       "      <td>[3, 3, 3, 3, 3, 3, 3, 3, 3, 3, 3, 3, 3, 3, 3, ...</td>\n",
       "    </tr>\n",
       "    <tr>\n",
       "      <th>4</th>\n",
       "      <td>[0, 0, 0, 0, 0, 0, 0, 0, 0, 0, 0, 0, 0, 0, 0, ...</td>\n",
       "      <td>[8, 8, 8, 8, 8, 8, 8, 8, 8, 8, 8, 8, 8, 8, 8, ...</td>\n",
       "      <td>[32, 48, 40, 80, 32, 16, 40, 64, 16, 32, 32, 4...</td>\n",
       "      <td>[0, 0, 5, 0, 0, 1, 0, 0, 1, 0, 4, 0, 0, 4, 1, ...</td>\n",
       "      <td>[240, 240, 240, 240, 240, 240, 240, 240, 240, ...</td>\n",
       "      <td>[2, 2, 2, 2, 2, 2, 2, 2, 2, 2, 2, 2, 2, 2, 2, ...</td>\n",
       "    </tr>\n",
       "  </tbody>\n",
       "</table>\n",
       "</div>"
      ],
      "text/plain": [
       "                                          json.flags  \\\n",
       "0  [0, 0, 0, 0, 0, 0, 0, 0, 0, 0, 0, 0, 0, 0, 0, ...   \n",
       "1  [0, 0, 0, 0, 0, 0, 0, 0, 0, 0, 0, 0, 0, 0, 0, ...   \n",
       "2  [0, 0, 0, 0, 0, 0, 0, 0, 0, 0, 0, 0, 0, 0, 0, ...   \n",
       "3  [0, 0, 0, 0, 0, 0, 0, 0, 0, 0, 0, 0, 0, 0, 0, ...   \n",
       "4  [0, 0, 0, 0, 0, 0, 0, 0, 0, 0, 0, 0, 0, 0, 0, ...   \n",
       "\n",
       "                                  json.groundTexture  \\\n",
       "0  [7, 7, 7, 7, 7, 7, 8, 8, 7, 7, 7, 7, 7, 1, 1, ...   \n",
       "1  [7, 7, 7, 7, 7, 7, 7, 7, 7, 7, 7, 7, 7, 7, 7, ...   \n",
       "2  [6, 6, 6, 6, 6, 6, 6, 6, 6, 6, 6, 6, 6, 6, 6, ...   \n",
       "3  [2, 2, 2, 2, 2, 2, 2, 2, 2, 2, 2, 2, 2, 2, 2, ...   \n",
       "4  [8, 8, 8, 8, 8, 8, 8, 8, 8, 8, 8, 8, 8, 8, 8, ...   \n",
       "\n",
       "                                json.groundVariation  \\\n",
       "0  [64, 48, 8, 40, 72, 72, 32, 32, 0, 40, 64, 8, ...   \n",
       "1  [8, 8, 0, 8, 8, 16, 16, 0, 0, 0, 16, 8, 16, 8,...   \n",
       "2  [0, 8, 16, 16, 16, 16, 0, 16, 0, 0, 0, 0, 8, 1...   \n",
       "3  [64, 72, 40, 80, 64, 40, 32, 64, 0, 16, 32, 80...   \n",
       "4  [32, 48, 40, 80, 32, 16, 40, 64, 16, 32, 32, 4...   \n",
       "\n",
       "                                 json.cliffVariation  \\\n",
       "0  [0, 0, 0, 0, 0, 1, 6, 0, 4, 4, 4, 4, 4, 1, 4, ...   \n",
       "1  [0, 4, 4, 0, 0, 0, 0, 0, 0, 0, 0, 4, 0, 4, 4, ...   \n",
       "2  [0, 0, 0, 1, 1, 0, 5, 1, 4, 0, 4, 0, 0, 1, 0, ...   \n",
       "3  [0, 4, 4, 1, 4, 0, 0, 0, 5, 1, 0, 0, 1, 0, 0, ...   \n",
       "4  [0, 0, 5, 0, 0, 1, 0, 0, 1, 0, 4, 0, 0, 4, 1, ...   \n",
       "\n",
       "                                   json.cliffTexture  \\\n",
       "0  [0, 0, 0, 0, 0, 0, 0, 0, 0, 0, 0, 0, 0, 0, 0, ...   \n",
       "1  [240, 240, 240, 240, 240, 240, 240, 240, 240, ...   \n",
       "2  [240, 240, 240, 240, 240, 240, 240, 240, 240, ...   \n",
       "3  [16, 16, 16, 16, 16, 16, 16, 16, 16, 16, 16, 1...   \n",
       "4  [240, 240, 240, 240, 240, 240, 240, 240, 240, ...   \n",
       "\n",
       "                                    json.layerHeight  \n",
       "0  [2, 2, 2, 2, 2, 2, 2, 2, 3, 3, 3, 3, 3, 3, 3, ...  \n",
       "1  [2, 2, 2, 2, 2, 2, 2, 2, 2, 2, 2, 2, 2, 2, 2, ...  \n",
       "2  [2, 2, 2, 2, 2, 2, 2, 2, 2, 2, 2, 2, 2, 2, 2, ...  \n",
       "3  [3, 3, 3, 3, 3, 3, 3, 3, 3, 3, 3, 3, 3, 3, 3, ...  \n",
       "4  [2, 2, 2, 2, 2, 2, 2, 2, 2, 2, 2, 2, 2, 2, 2, ...  "
      ]
     },
     "execution_count": 3,
     "metadata": {},
     "output_type": "execute_result"
    }
   ],
   "source": [
    "#Remove first 11 columns from dataframe\n",
    "df = df.iloc[:,12:]\n",
    "df.head()"
   ]
  },
  {
   "cell_type": "markdown",
   "metadata": {},
   "source": [
    "Convert Data from 97 x97 to 33 x 33"
   ]
  },
  {
   "cell_type": "code",
   "execution_count": 4,
   "metadata": {},
   "outputs": [],
   "source": [
    "import numpy as np\n",
    "import pandas as pd\n",
    "\n",
    "def split_into_quadrants(lst, original_grid_size=97, quadrant_size=33):\n",
    "    # Reshape the list into a 97x97 grid, padding if necessary\n",
    "    padded_length = quadrant_size * 3  # 99\n",
    "    padded_grid = np.full((padded_length, padded_length), lst[-1])\n",
    "    original_grid = np.reshape(lst, (original_grid_size, original_grid_size))\n",
    "    padded_grid[:original_grid_size, :original_grid_size] = original_grid\n",
    "\n",
    "    # Extract 9 quadrants of 33x33\n",
    "    quadrants = []\n",
    "    for i in range(0, padded_length, quadrant_size):\n",
    "        for j in range(0, padded_length, quadrant_size):\n",
    "            quadrant = padded_grid[i:i+quadrant_size, j:j+quadrant_size].flatten()\n",
    "            quadrants.append(quadrant)\n",
    "\n",
    "    return quadrants\n",
    "\n",
    "# Assuming df is your original DataFrame\n",
    "\n",
    "# New DataFrame data\n",
    "new_rows = []\n",
    "\n",
    "for _, row in df.iterrows():\n",
    "    split_row = {col: split_into_quadrants(row[col]) for col in df.columns}\n",
    "    for i in range(9):  # 9 quadrants\n",
    "        new_rows.append([split_row[col][i] for col in df.columns])\n",
    "\n",
    "# Create the new DataFrame\n",
    "new_df = pd.DataFrame(new_rows, columns=df.columns)\n",
    "\n",
    "# Example usage with your DataFrame\n",
    "df = new_df\n",
    "\n",
    "# new_df will now contain the data subdivided into 9 quadrants, each of 33x33"
   ]
  },
  {
   "cell_type": "markdown",
   "metadata": {},
   "source": [
    "Convert json flags and ground variation to workeable values\n"
   ]
  },
  {
   "cell_type": "code",
   "execution_count": 5,
   "metadata": {},
   "outputs": [],
   "source": [
    "import math\n",
    "#Normalize lists\n",
    "\n",
    "'''df['json.flags'] = df['json.flags'].apply(lambda lst: [int(x / 16) for x in lst])\n",
    "df['json.groundVariation'] = df['json.groundVariation'].apply(lambda lst: [int(x / 8) for x in lst])\n",
    "df['json.cliffTexture'] = df['json.cliffTexture'].apply(lambda lst: [int(x / 16) for x in lst])'''\n",
    "\n",
    "df['json.flags'] = df['json.flags'].apply(lambda lst: [math.ceil(x / 32) for x in lst])\n",
    "df['json.groundTexture'] = df['json.groundTexture'].apply(lambda lst: [math.ceil(x / 2) for x in lst])\n",
    "df['json.groundVariation'] = df['json.groundVariation'].apply(lambda lst: [math.ceil(x / 32) for x in lst])\n",
    "#df['json.cliffVariation'] = df['json.cliffVariation'].apply(lambda lst: [math.ceil(x / 2) for x in lst])\n",
    "df['json.cliffTexture'] = df['json.cliffTexture'].apply(lambda lst: [math.ceil(x / 32) for x in lst])\n",
    "df['json.layerHeight'] = df['json.layerHeight'].apply(lambda lst: [math.ceil(x / 2) for x in lst])\n"
   ]
  },
  {
   "cell_type": "code",
   "execution_count": 6,
   "metadata": {},
   "outputs": [],
   "source": [
    "#Reduce Dimension to half"
   ]
  },
  {
   "cell_type": "markdown",
   "metadata": {},
   "source": [
    "Get Unique values"
   ]
  },
  {
   "cell_type": "code",
   "execution_count": 7,
   "metadata": {},
   "outputs": [
    {
     "data": {
      "text/html": [
       "<div>\n",
       "<style scoped>\n",
       "    .dataframe tbody tr th:only-of-type {\n",
       "        vertical-align: middle;\n",
       "    }\n",
       "\n",
       "    .dataframe tbody tr th {\n",
       "        vertical-align: top;\n",
       "    }\n",
       "\n",
       "    .dataframe thead th {\n",
       "        text-align: right;\n",
       "    }\n",
       "</style>\n",
       "<table border=\"1\" class=\"dataframe\">\n",
       "  <thead>\n",
       "    <tr style=\"text-align: right;\">\n",
       "      <th></th>\n",
       "      <th>json.flags</th>\n",
       "      <th>json.groundTexture</th>\n",
       "      <th>json.groundVariation</th>\n",
       "      <th>json.cliffVariation</th>\n",
       "      <th>json.cliffTexture</th>\n",
       "      <th>json.layerHeight</th>\n",
       "    </tr>\n",
       "  </thead>\n",
       "  <tbody>\n",
       "    <tr>\n",
       "      <th>0</th>\n",
       "      <td>{0, 1}</td>\n",
       "      <td>{0, 1, 3, 4}</td>\n",
       "      <td>{0, 1, 2, 3}</td>\n",
       "      <td>{0, 1, 2, 3, 4, 5, 6, 7}</td>\n",
       "      <td>{0, 8}</td>\n",
       "      <td>{1, 2}</td>\n",
       "    </tr>\n",
       "    <tr>\n",
       "      <th>1</th>\n",
       "      <td>{0, 1}</td>\n",
       "      <td>{0, 1, 4}</td>\n",
       "      <td>{0, 1, 2, 3}</td>\n",
       "      <td>{0, 1, 2, 3, 4, 5, 6, 7}</td>\n",
       "      <td>{0, 8}</td>\n",
       "      <td>{1, 2}</td>\n",
       "    </tr>\n",
       "    <tr>\n",
       "      <th>2</th>\n",
       "      <td>{0, 1}</td>\n",
       "      <td>{0, 1, 4}</td>\n",
       "      <td>{0, 1, 2, 3}</td>\n",
       "      <td>{0, 1, 2, 3, 4, 5, 6, 7}</td>\n",
       "      <td>{0, 8}</td>\n",
       "      <td>{1, 2}</td>\n",
       "    </tr>\n",
       "    <tr>\n",
       "      <th>3</th>\n",
       "      <td>{0, 1, 2}</td>\n",
       "      <td>{0, 1, 4}</td>\n",
       "      <td>{0, 1, 2, 3}</td>\n",
       "      <td>{0, 1, 2, 3, 4, 5, 6, 7}</td>\n",
       "      <td>{0, 8}</td>\n",
       "      <td>{0, 1, 2}</td>\n",
       "    </tr>\n",
       "    <tr>\n",
       "      <th>4</th>\n",
       "      <td>{0, 1}</td>\n",
       "      <td>{1, 2, 3, 4}</td>\n",
       "      <td>{0, 1, 2, 3}</td>\n",
       "      <td>{0, 1, 2, 3, 4, 5, 6, 7}</td>\n",
       "      <td>{0, 8, 1}</td>\n",
       "      <td>{1, 2}</td>\n",
       "    </tr>\n",
       "    <tr>\n",
       "      <th>...</th>\n",
       "      <td>...</td>\n",
       "      <td>...</td>\n",
       "      <td>...</td>\n",
       "      <td>...</td>\n",
       "      <td>...</td>\n",
       "      <td>...</td>\n",
       "    </tr>\n",
       "    <tr>\n",
       "      <th>9733</th>\n",
       "      <td>{0}</td>\n",
       "      <td>{0, 1, 2, 3, 4}</td>\n",
       "      <td>{0, 1, 2, 3}</td>\n",
       "      <td>{0, 1, 2, 3, 4, 5, 6, 7}</td>\n",
       "      <td>{8, 1}</td>\n",
       "      <td>{1}</td>\n",
       "    </tr>\n",
       "    <tr>\n",
       "      <th>9734</th>\n",
       "      <td>{0}</td>\n",
       "      <td>{0, 2, 3, 4}</td>\n",
       "      <td>{0, 1, 2, 3}</td>\n",
       "      <td>{0, 1, 2, 3, 4, 5, 6, 7}</td>\n",
       "      <td>{8, 1}</td>\n",
       "      <td>{1}</td>\n",
       "    </tr>\n",
       "    <tr>\n",
       "      <th>9735</th>\n",
       "      <td>{0}</td>\n",
       "      <td>{0, 3, 4}</td>\n",
       "      <td>{0, 1, 2, 3}</td>\n",
       "      <td>{0, 1, 2, 3, 4, 5, 6, 7}</td>\n",
       "      <td>{8, 1}</td>\n",
       "      <td>{1}</td>\n",
       "    </tr>\n",
       "    <tr>\n",
       "      <th>9736</th>\n",
       "      <td>{0}</td>\n",
       "      <td>{0, 1, 3, 4}</td>\n",
       "      <td>{0, 1, 2, 3}</td>\n",
       "      <td>{0, 1, 2, 3, 4, 5, 6, 7}</td>\n",
       "      <td>{8, 1}</td>\n",
       "      <td>{1}</td>\n",
       "    </tr>\n",
       "    <tr>\n",
       "      <th>9737</th>\n",
       "      <td>{0}</td>\n",
       "      <td>{0, 1, 2, 3, 4}</td>\n",
       "      <td>{0, 1, 2, 3}</td>\n",
       "      <td>{0, 1, 2, 3, 4, 5, 6, 7}</td>\n",
       "      <td>{8, 1}</td>\n",
       "      <td>{1}</td>\n",
       "    </tr>\n",
       "  </tbody>\n",
       "</table>\n",
       "<p>9738 rows × 6 columns</p>\n",
       "</div>"
      ],
      "text/plain": [
       "     json.flags json.groundTexture json.groundVariation  \\\n",
       "0        {0, 1}       {0, 1, 3, 4}         {0, 1, 2, 3}   \n",
       "1        {0, 1}          {0, 1, 4}         {0, 1, 2, 3}   \n",
       "2        {0, 1}          {0, 1, 4}         {0, 1, 2, 3}   \n",
       "3     {0, 1, 2}          {0, 1, 4}         {0, 1, 2, 3}   \n",
       "4        {0, 1}       {1, 2, 3, 4}         {0, 1, 2, 3}   \n",
       "...         ...                ...                  ...   \n",
       "9733        {0}    {0, 1, 2, 3, 4}         {0, 1, 2, 3}   \n",
       "9734        {0}       {0, 2, 3, 4}         {0, 1, 2, 3}   \n",
       "9735        {0}          {0, 3, 4}         {0, 1, 2, 3}   \n",
       "9736        {0}       {0, 1, 3, 4}         {0, 1, 2, 3}   \n",
       "9737        {0}    {0, 1, 2, 3, 4}         {0, 1, 2, 3}   \n",
       "\n",
       "           json.cliffVariation json.cliffTexture json.layerHeight  \n",
       "0     {0, 1, 2, 3, 4, 5, 6, 7}            {0, 8}           {1, 2}  \n",
       "1     {0, 1, 2, 3, 4, 5, 6, 7}            {0, 8}           {1, 2}  \n",
       "2     {0, 1, 2, 3, 4, 5, 6, 7}            {0, 8}           {1, 2}  \n",
       "3     {0, 1, 2, 3, 4, 5, 6, 7}            {0, 8}        {0, 1, 2}  \n",
       "4     {0, 1, 2, 3, 4, 5, 6, 7}         {0, 8, 1}           {1, 2}  \n",
       "...                        ...               ...              ...  \n",
       "9733  {0, 1, 2, 3, 4, 5, 6, 7}            {8, 1}              {1}  \n",
       "9734  {0, 1, 2, 3, 4, 5, 6, 7}            {8, 1}              {1}  \n",
       "9735  {0, 1, 2, 3, 4, 5, 6, 7}            {8, 1}              {1}  \n",
       "9736  {0, 1, 2, 3, 4, 5, 6, 7}            {8, 1}              {1}  \n",
       "9737  {0, 1, 2, 3, 4, 5, 6, 7}            {8, 1}              {1}  \n",
       "\n",
       "[9738 rows x 6 columns]"
      ]
     },
     "execution_count": 7,
     "metadata": {},
     "output_type": "execute_result"
    }
   ],
   "source": [
    "#Get Unique Values from a each List in columns Using set() Property\n",
    "\n",
    "values = pd.DataFrame()\n",
    "\n",
    "for column in df.columns:\n",
    "    values[column] = df[column].apply(lambda x: set(x))\n",
    "\n",
    "values\n"
   ]
  },
  {
   "cell_type": "markdown",
   "metadata": {},
   "source": [
    "merge all columns and use set to get different values per columns"
   ]
  },
  {
   "cell_type": "code",
   "execution_count": 8,
   "metadata": {},
   "outputs": [
    {
     "data": {
      "text/html": [
       "<div>\n",
       "<style scoped>\n",
       "    .dataframe tbody tr th:only-of-type {\n",
       "        vertical-align: middle;\n",
       "    }\n",
       "\n",
       "    .dataframe tbody tr th {\n",
       "        vertical-align: top;\n",
       "    }\n",
       "\n",
       "    .dataframe thead th {\n",
       "        text-align: right;\n",
       "    }\n",
       "</style>\n",
       "<table border=\"1\" class=\"dataframe\">\n",
       "  <thead>\n",
       "    <tr style=\"text-align: right;\">\n",
       "      <th></th>\n",
       "      <th>json.flags</th>\n",
       "      <th>json.groundTexture</th>\n",
       "      <th>json.groundVariation</th>\n",
       "      <th>json.cliffVariation</th>\n",
       "      <th>json.cliffTexture</th>\n",
       "      <th>json.layerHeight</th>\n",
       "    </tr>\n",
       "  </thead>\n",
       "  <tbody>\n",
       "    <tr>\n",
       "      <th>0</th>\n",
       "      <td>{0, 1, 2, 3, 4, 5, 6, 7}</td>\n",
       "      <td>{0, 1, 2, 3, 4, 5, 6, 7, 8}</td>\n",
       "      <td>{0, 1, 2, 3, 4, 5, 6, 7, 8}</td>\n",
       "      <td>{0, 1, 2, 3, 4, 5, 6, 7}</td>\n",
       "      <td>{0, 1, 2, 3, 8}</td>\n",
       "      <td>{0, 1, 2, 3, 4, 5, 6, 7}</td>\n",
       "    </tr>\n",
       "  </tbody>\n",
       "</table>\n",
       "</div>"
      ],
      "text/plain": [
       "                 json.flags           json.groundTexture  \\\n",
       "0  {0, 1, 2, 3, 4, 5, 6, 7}  {0, 1, 2, 3, 4, 5, 6, 7, 8}   \n",
       "\n",
       "          json.groundVariation       json.cliffVariation json.cliffTexture  \\\n",
       "0  {0, 1, 2, 3, 4, 5, 6, 7, 8}  {0, 1, 2, 3, 4, 5, 6, 7}   {0, 1, 2, 3, 8}   \n",
       "\n",
       "           json.layerHeight  \n",
       "0  {0, 1, 2, 3, 4, 5, 6, 7}  "
      ]
     },
     "execution_count": 8,
     "metadata": {},
     "output_type": "execute_result"
    }
   ],
   "source": [
    "unique_values = pd.DataFrame()\n",
    "\n",
    "for column in values.columns:\n",
    "    #foreach row in the column, get the list and concatenate set to the list\n",
    "    vals = []\n",
    "    for row in values[column]:\n",
    "        #concatenate the union of the sets in column to vals list\n",
    "        vals.extend(set().union(row))\n",
    "        \n",
    "    #add the unique values of list to the dataframe\n",
    "    unique_values[column] = [vals]\n",
    "\n",
    "#foreach column in unique_values, get the unique values\n",
    "for column in unique_values.columns:\n",
    "    unique_values[column] = unique_values[column].apply(lambda x: set(x))\n",
    "\n",
    "unique_values"
   ]
  },
  {
   "cell_type": "code",
   "execution_count": 9,
   "metadata": {},
   "outputs": [
    {
     "name": "stdout",
     "output_type": "stream",
     "text": [
      "{0, 1, 2, 3, 4, 5, 6, 7}\n",
      "{0, 1, 2, 3, 4, 5, 6, 7, 8}\n",
      "{0, 1, 2, 3, 4, 5, 6, 7, 8}\n",
      "{0, 1, 2, 3, 4, 5, 6, 7}\n",
      "{0, 1, 2, 3, 8}\n",
      "{0, 1, 2, 3, 4, 5, 6, 7}\n"
     ]
    }
   ],
   "source": [
    "print(set(unique_values[\"json.flags\"][0]))\n",
    "print(set(unique_values[\"json.groundTexture\"][0]))\n",
    "print(set(unique_values[\"json.groundVariation\"][0]))\n",
    "print(set(unique_values[\"json.cliffVariation\"][0]))\n",
    "print(set(unique_values[\"json.cliffTexture\"][0]))\n",
    "print(set(unique_values[\"json.layerHeight\"][0]))"
   ]
  },
  {
   "cell_type": "code",
   "execution_count": 10,
   "metadata": {},
   "outputs": [],
   "source": [
    "#Transform the values in the dataframe to a shared ranking system using the transform_shared_values_with_mapping function\n",
    "transformed_values = pd.DataFrame()\n",
    "\n",
    "#Create a list to store the rank_to_value dictionaries for each column\n",
    "rank_to_value_list = []\n",
    "\n",
    "for column in unique_values.columns:\n",
    "    transformed_values[column], rank_to_value = utils.transform_shared_values_with_mapping(unique_values[column])\n",
    "    rank_to_value_list.append(rank_to_value)"
   ]
  },
  {
   "cell_type": "code",
   "execution_count": 11,
   "metadata": {},
   "outputs": [],
   "source": [
    "#Get original values from transformed values using rank_to_value_list to convert back each column to its original values and store in original_values dataframe\n",
    "original_values = pd.DataFrame()\n",
    "i = 0\n",
    "for column in transformed_values.columns:\n",
    "    transformed_values[column] = transformed_values[column].apply(lambda x: utils.get_original_values_from_transformed(x, rank_to_value_list[i]))\n",
    "    i = i+1"
   ]
  },
  {
   "cell_type": "code",
   "execution_count": 12,
   "metadata": {},
   "outputs": [],
   "source": [
    "#Use transform_shared_values_with_mapping function to transform the values in df to a shared ranking system\n",
    "transformed_df = pd.DataFrame()\n",
    "\n",
    "#Create a list to store the rank_to_value dictionaries for each column\n",
    "rank_to_value_list = []\n",
    "\n",
    "for column in df.columns:\n",
    "    transformed_df[column], rank_to_value = utils.transform_shared_values_with_mapping(df[column])\n",
    "    rank_to_value_list.append(rank_to_value)"
   ]
  },
  {
   "cell_type": "code",
   "execution_count": 13,
   "metadata": {},
   "outputs": [],
   "source": [
    "numpy_array = transformed_df.to_numpy()"
   ]
  },
  {
   "cell_type": "code",
   "execution_count": 14,
   "metadata": {},
   "outputs": [],
   "source": [
    "def reorder_array(matrix):\n",
    "    # Assuming matrix is a 33x33 array\n",
    "    reordered = np.zeros_like(matrix)\n",
    "    for i in range(3):\n",
    "        reordered[:, i::3] = matrix[:, i*11:(i+1)*11].reshape(33, 11)\n",
    "    return reordered"
   ]
  },
  {
   "cell_type": "code",
   "execution_count": 15,
   "metadata": {},
   "outputs": [],
   "source": [
    "#Reshape each list in the numpy array to bidimensional array of dimensions 33x33\n",
    "#dimensions = 97\n",
    "dimensions = 33\n",
    "\n",
    "for i in range(len(numpy_array)):\n",
    "    for j in range(len(numpy_array[i])):\n",
    "        numpy_array[i][j] = np.reshape(numpy_array[i][j], (dimensions,dimensions))\n",
    "        #numpy_array[i][j] = reorder_array(numpy_array[i][j], dimensions)\n",
    "        #reshaped = np.reshape(numpy_array[i][j], (dimensions, dimensions))\n",
    "        # Reorder the reshaped array\n",
    "        #numpy_array[i][j] = reorder_array(reshaped)"
   ]
  },
  {
   "cell_type": "code",
   "execution_count": 16,
   "metadata": {},
   "outputs": [
    {
     "data": {
      "image/png": "[encoded data removed]",
      "text/plain": [
       "<Figure size 640x480 with 6 Axes>"
      ]
     },
     "metadata": {},
     "output_type": "display_data"
    }
   ],
   "source": [
    "import matplotlib.pyplot as plt\n",
    "#Use subplots to show all images in the same figure\n",
    "\n",
    "fig, axs = plt.subplots(2, 3)\n",
    "axs[0, 0].imshow(numpy_array[0][0])\n",
    "axs[0, 0].set_title('flags')\n",
    "axs[0, 1].imshow(numpy_array[0][1])\n",
    "axs[0, 1].set_title('groundTexture')\n",
    "axs[0, 2].imshow(numpy_array[0][2])\n",
    "axs[0, 2].set_title('groundVariation')\n",
    "axs[1, 0].imshow(numpy_array[0][3])\n",
    "axs[1, 0].set_title('cliffVariation')\n",
    "axs[1, 1].imshow(numpy_array[0][4])\n",
    "axs[1, 1].set_title('cliffTexture')\n",
    "axs[1, 2].imshow(numpy_array[0][5])\n",
    "axs[1, 2].set_title('layerHeight')\n",
    "\n",
    "for ax in axs.flat:\n",
    "    ax.label_outer()\n",
    "\n",
    "plt.show()\n"
   ]
  },
  {
   "cell_type": "code",
   "execution_count": 17,
   "metadata": {},
   "outputs": [
    {
     "data": {
      "image/png": "[encoded data removed]",
      "text/plain": [
       "<Figure size 640x480 with 1 Axes>"
      ]
     },
     "metadata": {},
     "output_type": "display_data"
    }
   ],
   "source": [
    "#Create a figure and plot each image as layer in the same figure with transparency (alpha) to see all layers at the same time \n",
    "fig = plt.figure()\n",
    "ax = fig.add_subplot(111)\n",
    "ax.imshow(numpy_array[0][0], alpha=0.5)\n",
    "ax.imshow(numpy_array[0][1], alpha=0.5)\n",
    "ax.imshow(numpy_array[0][2], alpha=0.5)\n",
    "ax.imshow(numpy_array[0][3], alpha=0.5)\n",
    "ax.imshow(numpy_array[0][4], alpha=0.5)\n",
    "ax.imshow(numpy_array[0][5], alpha=0.5)\n",
    "plt.show()"
   ]
  },
  {
   "cell_type": "markdown",
   "metadata": {},
   "source": [
    "Convert to categorical"
   ]
  },
  {
   "cell_type": "code",
   "execution_count": 18,
   "metadata": {},
   "outputs": [
    {
     "name": "stdout",
     "output_type": "stream",
     "text": [
      "WARNING:tensorflow:From C:\\Users\\dsolj\\AppData\\Local\\Packages\\PythonSoftwareFoundation.Python.3.10_qbz5n2kfra8p0\\LocalCache\\local-packages\\Python310\\site-packages\\keras\\src\\losses.py:2976: The name tf.losses.sparse_softmax_cross_entropy is deprecated. Please use tf.compat.v1.losses.sparse_softmax_cross_entropy instead.\n",
      "\n"
     ]
    }
   ],
   "source": [
    "from keras.utils import to_categorical\n",
    "\n",
    "#Create a list to store the max value of each list in the numpy array\n",
    "max_values = []\n",
    "\n",
    "for i in range(len(numpy_array)):\n",
    "    for j in range(len(numpy_array[i])):\n",
    "        #foreach column in the numpy array, get the max value and store it in the max_values list\n",
    "        max_values.append(numpy_array[i][j].max())"
   ]
  },
  {
   "cell_type": "code",
   "execution_count": 19,
   "metadata": {},
   "outputs": [
    {
     "data": {
      "text/plain": [
       "(9738, 6)"
      ]
     },
     "execution_count": 19,
     "metadata": {},
     "output_type": "execute_result"
    }
   ],
   "source": [
    "#Convert max_values list to a 2D array \n",
    "\n",
    "max_values = np.array(max_values)\n",
    "max_values = np.reshape(max_values, (len(numpy_array),len(numpy_array[0])))\n",
    "max_values.shape"
   ]
  },
  {
   "cell_type": "code",
   "execution_count": 20,
   "metadata": {},
   "outputs": [
    {
     "data": {
      "text/plain": [
       "[8, 9, 9, 8, 5, 8]"
      ]
     },
     "execution_count": 20,
     "metadata": {},
     "output_type": "execute_result"
    }
   ],
   "source": [
    "#get the max value from each column in the max_values array and store it in the max_values_list\n",
    "\n",
    "max_column_values = []\n",
    "\n",
    "for i in range(len(max_values[0])):\n",
    "    max_column_values.append(max_values[:,i].max())\n",
    "\n",
    "max_column_values"
   ]
  },
  {
   "cell_type": "code",
   "execution_count": 21,
   "metadata": {},
   "outputs": [
    {
     "data": {
      "text/plain": [
       "(33, 33, 9)"
      ]
     },
     "execution_count": 21,
     "metadata": {},
     "output_type": "execute_result"
    }
   ],
   "source": [
    "from keras.utils import to_categorical\n",
    "for i in range(len(numpy_array)):\n",
    "    for j in range(len(numpy_array[i])):\n",
    "\n",
    "        #use max_values_list to convert each list in the numpy array to categorical\n",
    "        numpy_array[i][j] = to_categorical(numpy_array[i][j], num_classes=max_column_values[j]+1)\n",
    "\n",
    "numpy_array[0][0].shape"
   ]
  },
  {
   "cell_type": "code",
   "execution_count": 22,
   "metadata": {},
   "outputs": [],
   "source": [
    "#Original dimensions\n",
    "slices = numpy_array[0]"
   ]
  },
  {
   "cell_type": "code",
   "execution_count": 23,
   "metadata": {},
   "outputs": [
    {
     "data": {
      "text/plain": [
       "[(33, 33, 9),\n",
       " (33, 33, 10),\n",
       " (33, 33, 10),\n",
       " (33, 33, 9),\n",
       " (33, 33, 6),\n",
       " (33, 33, 9)]"
      ]
     },
     "execution_count": 23,
     "metadata": {},
     "output_type": "execute_result"
    }
   ],
   "source": [
    "#foreach list in the numpy array, save dimensions to a variable and append to a list\n",
    "\n",
    "dimensions_list = []\n",
    "\n",
    "for j in range(len(slices)):\n",
    "    dimensions_list.append(slices[j].shape)\n",
    "\n",
    "dimensions_list"
   ]
  },
  {
   "cell_type": "code",
   "execution_count": 24,
   "metadata": {},
   "outputs": [],
   "source": [
    "#Create container to store the maps\n",
    "maps = []\n",
    "\n",
    "#Stack the arrays in the numpy array and store them in the stacked_arrays container\n",
    "for i in range(len(numpy_array)):\n",
    "    maps.append(utils.stack_arrays_list(numpy_array[i]))"
   ]
  },
  {
   "cell_type": "code",
   "execution_count": 25,
   "metadata": {},
   "outputs": [
    {
     "data": {
      "text/plain": [
       "[9, 19, 29, 38, 44]"
      ]
     },
     "execution_count": 25,
     "metadata": {},
     "output_type": "execute_result"
    }
   ],
   "source": [
    "listOfCutPoints = []\n",
    "\n",
    "AcumCutPoints = 0\n",
    "for i in range(len(dimensions_list)-1):\n",
    "    AcumCutPoints += dimensions_list[i][2]\n",
    "    listOfCutPoints.append(AcumCutPoints)\n",
    "listOfCutPoints"
   ]
  },
  {
   "cell_type": "code",
   "execution_count": 26,
   "metadata": {},
   "outputs": [],
   "source": [
    "#Unstack the arrays in the stacked_arrays container and store them in the unstacked_arrays container\n",
    "layers = []\n",
    "\n",
    "for i in range(len(maps)):\n",
    "    layers.append(np.split(maps[i], listOfCutPoints, axis=2))"
   ]
  },
  {
   "cell_type": "code",
   "execution_count": 27,
   "metadata": {},
   "outputs": [],
   "source": [
    "#apply the inverse of to_categorical to each array in the unstacked_arrays container\n",
    "for i in range(len(layers)):\n",
    "    for j in range(len(layers[i])):\n",
    "        layers[i][j] = np.argmax(layers[i][j], axis=2)"
   ]
  },
  {
   "cell_type": "code",
   "execution_count": 28,
   "metadata": {},
   "outputs": [],
   "source": [
    "#Create container to store the maps\n",
    "maps = []\n",
    "\n",
    "#Stack the arrays in the numpy array and store them in the stacked_arrays container\n",
    "for i in range(len(numpy_array)):\n",
    "    maps.append(utils.stack_arrays_list(numpy_array[i]))"
   ]
  },
  {
   "cell_type": "code",
   "execution_count": 29,
   "metadata": {},
   "outputs": [
    {
     "name": "stdout",
     "output_type": "stream",
     "text": [
      "WARNING:tensorflow:From C:\\Users\\dsolj\\AppData\\Local\\Packages\\PythonSoftwareFoundation.Python.3.10_qbz5n2kfra8p0\\LocalCache\\local-packages\\Python310\\site-packages\\keras\\src\\backend.py:1398: The name tf.executing_eagerly_outside_functions is deprecated. Please use tf.compat.v1.executing_eagerly_outside_functions instead.\n",
      "\n"
     ]
    },
    {
     "name": "stderr",
     "output_type": "stream",
     "text": [
      "C:\\Users\\dsolj\\AppData\\Local\\Temp\\ipykernel_12848\\3945027803.py:1: DeprecationWarning: `import kerastuner` is deprecated, please use `import keras_tuner`.\n",
      "  import kerastuner as kt\n"
     ]
    },
    {
     "name": "stdout",
     "output_type": "stream",
     "text": [
      "Reloading Tuner from autoencoder_tuning\\autoencoder_tune\\tuner0.json\n"
     ]
    }
   ],
   "source": [
    "import kerastuner as kt\n",
    "from keras.layers import Input, Dense, Flatten, Reshape\n",
    "from keras.models import Model\n",
    "from keras.callbacks import EarlyStopping, ModelCheckpoint\n",
    "import keras\n",
    "\n",
    "dim1 = len(maps[0])\n",
    "dim2 = len(maps[0][0])\n",
    "dim3 = len(maps[0][0][0])\n",
    "\n",
    "input_img = Input(shape=(dim1, dim2, dim3))\n",
    "\n",
    "def build_model(hp):\n",
    "    n1 = hp.Int('units_encoder_1', min_value=dim3/2, max_value=dim3)\n",
    "    n2 = hp.Int('units_encoder_2', min_value=dim3/4, max_value=dim3/2)\n",
    "    n3 = hp.Int('units_encoder_3', min_value=dim3/8, max_value=dim3/4)\n",
    "    learning_rate = hp.Float('learning_rate', min_value = 1e-4, max_value = 1e-2,sampling = 'log')\n",
    "\n",
    "    # Tuning the number of units in the Dense layers\n",
    "    # You can also tune other parameters like activation functions, optimizers, etc.\n",
    "    x = Flatten()(input_img)\n",
    "    x = Dense(units=n1,activation='relu')(x)\n",
    "    x = Dense(units= n2, activation='relu')(x)\n",
    "    #x = Dense(units= n3,activation='relu')(x)\n",
    "    encoded = Dense(units=n3, activation='relu')(x)\n",
    "\n",
    "    latent_shape = Input(shape=(n3))\n",
    "    #x = Dense(units=n3, activation='relu')(latent_shape)\n",
    "    x = Dense(units=n2, activation='relu')(latent_shape)\n",
    "    x = Dense(units=n1, activation='relu')(x)\n",
    "    x = Dense(units=dim1*dim2*dim3, activation='relu')(x)\n",
    "    x = Reshape(target_shape=(dim1, dim2, dim3))(x)\n",
    "    decoded = Dense(dim3, activation='relu')(x)\n",
    "\n",
    "    encoder = Model(input_img, encoded)\n",
    "    decoder = Model(latent_shape, decoded)\n",
    "\n",
    "    autoencoder = Model(input_img, decoder(encoded))\n",
    "    autoencoder.compile(optimizer = keras.optimizers.Adam(learning_rate=learning_rate), loss='categorical_crossentropy', metrics=['accuracy'])\n",
    "\n",
    "    return autoencoder\n",
    "\n",
    "# Set up the tuner\n",
    "tuner = kt.RandomSearch(\n",
    "    build_model,\n",
    "    objective='val_accuracy',\n",
    "    max_trials=10,  # Number of variations on the model to test\n",
    "    executions_per_trial=1,  # Number of times to fit each model\n",
    "    directory='autoencoder_tuning',\n",
    "    project_name='autoencoder_tune'\n",
    ")\n",
    "\n",
    "#Checkpoint -> Save best model\n",
    "cp = ModelCheckpoint('best_model_v2.keras', monitor='val_accuracy', verbose=1, save_best_only=True, mode='max')\n",
    "\n",
    "# Early Stopping -> Stop after model began to decrease and restore best weights\n",
    "es = EarlyStopping(monitor='val_accuracy', mode='max', verbose=1, patience=5,restore_best_weights=True)\n",
    "\n",
    "#Reshape the stacked_arrays to 4D array\n",
    "maps = np.reshape(maps, (len(maps),dim1, dim2, dim3))\n",
    "\n",
    "# Run the tuner\n",
    "tuner.search(maps, maps, epochs=50, validation_data=(maps, maps), callbacks=[es,cp])\n",
    "\n",
    "# Get the optimal hyperparameters\n",
    "best_hps = tuner.get_best_hyperparameters(num_trials=1)[0]\n"
   ]
  },
  {
   "cell_type": "code",
   "execution_count": 30,
   "metadata": {},
   "outputs": [
    {
     "name": "stdout",
     "output_type": "stream",
     "text": [
      "Model: \"model_2\"\n",
      "_________________________________________________________________\n",
      " Layer (type)                Output Shape              Param #   \n",
      "=================================================================\n",
      " input_2 (InputLayer)        [(None, 33, 33, 53)]      0         \n",
      "                                                                 \n",
      " flatten (Flatten)           (None, 57717)             0         \n",
      "                                                                 \n",
      " dense (Dense)               (None, 10000)             577180000 \n",
      "                                                                 \n",
      " dense_1 (Dense)             (None, 5000)              50005000  \n",
      "                                                                 \n",
      " dense_2 (Dense)             (None, 500)               2500500   \n",
      "                                                                 \n",
      " model_1 (Functional)        (None, 33, 33, 53)        629745579 \n",
      "                                                                 \n",
      "=================================================================\n",
      "Total params: 1259431079 (708.35 MB)\n",
      "Trainable params: 1259431079 (708.35 MB)\n",
      "Non-trainable params: 0 (0.00 Byte)\n",
      "_________________________________________________________________\n",
      "Model: \"model_1\"\n",
      "_________________________________________________________________\n",
      " Layer (type)                Output Shape              Param #   \n",
      "=================================================================\n",
      " input_3 (InputLayer)        [(None, 500)]             0         \n",
      "                                                                 \n",
      " dense_3 (Dense)             (None, 5000)              2505000   \n",
      "                                                                 \n",
      " dense_4 (Dense)             (None, 10000)             50010000  \n",
      "                                                                 \n",
      " dense_5 (Dense)             (None, 57717)             577227717 \n",
      "                                                                 \n",
      " reshape (Reshape)           (None, 33, 33, 53)        0         \n",
      "                                                                 \n",
      " dense_6 (Dense)             (None, 33, 33, 53)        2862      \n",
      "                                                                 \n",
      "=================================================================\n",
      "Total params: 629745579 (-1775984980.00 Byte)\n",
      "Trainable params: 629745579 (-1775984980.00 Byte)\n",
      "Non-trainable params: 0 (0.00 Byte)\n",
      "_________________________________________________________________\n"
     ]
    },
    {
     "name": "stderr",
     "output_type": "stream",
     "text": [
      "C:\\Users\\dsolj\\AppData\\Local\\Packages\\PythonSoftwareFoundation.Python.3.10_qbz5n2kfra8p0\\LocalCache\\local-packages\\Python310\\site-packages\\keras\\src\\utils\\layer_utils.py:146: RuntimeWarning: overflow encountered in scalar multiply\n",
      "  total_memory_size += weight_shape * per_param_size\n",
      "C:\\Users\\dsolj\\AppData\\Local\\Packages\\PythonSoftwareFoundation.Python.3.10_qbz5n2kfra8p0\\LocalCache\\local-packages\\Python310\\site-packages\\keras\\src\\utils\\layer_utils.py:146: RuntimeWarning: overflow encountered in scalar add\n",
      "  total_memory_size += weight_shape * per_param_size\n"
     ]
    }
   ],
   "source": [
    "dim1 = len(maps[0])\n",
    "dim2 = len(maps[0][0])\n",
    "dim3 = len(maps[0][0][0])\n",
    "\n",
    "input_img = Input(shape=(dim1, dim2, dim3))\n",
    "\n",
    "#n1 = best_hps.get('units_encoder_1')\n",
    "#n2 = best_hps.get('units_encoder_2')\n",
    "#n3 = best_hps.get('units_encoder_3')\n",
    "#learning_rate = best_hps.get('learning_rate')\n",
    "n1 = 10000\n",
    "n2 = 5000\n",
    "n3 = 500\n",
    "learning_rate = 0.001\n",
    "\n",
    "#Model separated by encoder and decoder\n",
    "\n",
    "x = Flatten()(input_img)\n",
    "x = Dense(units=n1,activation='relu')(x)\n",
    "x = Dense(units= n2, activation='relu')(x)\n",
    "#x = Dense(units= n3,activation='relu')(x)\n",
    "encoded = Dense(units=n3, activation='relu')(x)\n",
    "\n",
    "latent_shape = Input(shape=(n3))\n",
    "#x = Dense(units=n3, activation='relu')(latent_shape)\n",
    "x = Dense(units=n2, activation='relu')(latent_shape)\n",
    "x = Dense(units=n1, activation='relu')(x)\n",
    "x = Dense(units=dim1*dim2*dim3, activation='relu')(x)\n",
    "x = Reshape(target_shape=(dim1, dim2, dim3))(x)\n",
    "decoded = Dense(dim3, activation='relu')(x)\n",
    "\n",
    "\n",
    "'''\n",
    "x = Flatten()(input_img)\n",
    "x = Dense(units=n1,activation='relu')(x)\n",
    "x = Dense(units= n2, activation='relu')(x)\n",
    "#x = Dense(units= n3,activation='relu')(x)\n",
    "encoded = Dense(units=n3, activation='relu')(x)\n",
    "\n",
    "latent_shape = Input(shape=(n3))\n",
    "#x = Dense(units=n3, activation='relu')(latent_shape)\n",
    "x = Dense(units=n2, activation='relu')(latent_shape)\n",
    "x = Dense(units=n1, activation='relu')(x)\n",
    "x = Dense(units=dim1*dim2*dim3, activation='relu')(x)\n",
    "x = Reshape(target_shape=(dim1, dim2, dim3))(x)\n",
    "decoded = Dense(dim3, activation='relu')(x)\n",
    "\n",
    "'''\n",
    "\n",
    "encoder = Model(input_img, encoded)\n",
    "decoder = Model(latent_shape, decoded)\n",
    "\n",
    "autoencoder = Model(input_img, decoder(encoded))\n",
    "autoencoder.compile(optimizer = keras.optimizers.Adam(learning_rate=learning_rate), loss='categorical_crossentropy', metrics=['accuracy'])\n",
    "\n",
    "autoencoder.summary()\n",
    "decoder.summary()"
   ]
  },
  {
   "cell_type": "code",
   "execution_count": 31,
   "metadata": {},
   "outputs": [
    {
     "name": "stdout",
     "output_type": "stream",
     "text": [
      "Epoch 1/100\n",
      "WARNING:tensorflow:From C:\\Users\\dsolj\\AppData\\Local\\Packages\\PythonSoftwareFoundation.Python.3.10_qbz5n2kfra8p0\\LocalCache\\local-packages\\Python310\\site-packages\\keras\\src\\utils\\tf_utils.py:492: The name tf.ragged.RaggedTensorValue is deprecated. Please use tf.compat.v1.ragged.RaggedTensorValue instead.\n",
      "\n",
      "WARNING:tensorflow:From C:\\Users\\dsolj\\AppData\\Local\\Packages\\PythonSoftwareFoundation.Python.3.10_qbz5n2kfra8p0\\LocalCache\\local-packages\\Python310\\site-packages\\keras\\src\\engine\\base_layer_utils.py:384: The name tf.executing_eagerly_outside_functions is deprecated. Please use tf.compat.v1.executing_eagerly_outside_functions instead.\n",
      "\n",
      "  1/305 [..............................] - ETA: 4:43:48 - loss: 62.6851 - accuracy: 0.0234"
     ]
    }
   ],
   "source": [
    "#best_model.fit(maps, maps, epochs=100, batch_size=256, validation_data=(maps, maps), callbacks=[es])\n",
    "#best_model.fit(maps, maps, epochs=100,validation_data=(maps, maps), callbacks=[es])\n",
    "\n",
    "#fit the model with the best hyperparameters\n",
    "#autoencoder.fit(maps, maps, epochs=100,validation_data=(maps, maps), callbacks=[es,cp])\n",
    "autoencoder.fit(maps, maps, epochs=100, callbacks=[es,cp],shuffle=True,validation_split = 0.2)\n",
    "\n"
   ]
  },
  {
   "cell_type": "markdown",
   "metadata": {},
   "source": [
    "HASTA ACÁ ESTÁ FUNCIONANDO"
   ]
  },
  {
   "cell_type": "code",
   "execution_count": null,
   "metadata": {},
   "outputs": [
    {
     "data": {
      "text/plain": [
       "\"from keras.layers import Input, Conv2D, Conv2DTranspose, Reshape\\nfrom keras.models import Model\\nfrom keras.callbacks import EarlyStopping\\n\\n# Assuming dim1, dim2, and dim3 represent your input dimensions\\ndim1 = len(maps[0])\\ndim2 = len(maps[0][0])\\ndim3 = len(maps[0][0][0])\\n\\ninput_img = Input(shape=(dim1, dim2, dim3))\\n\\n# Encoder using Conv2D layers\\n# Adjust the number of filters and kernel sizes as needed\\nencoder = Conv2D(32, (3, 3), activation='relu', padding='same')(input_img)\\nencoder = Conv2D(16, (3, 3), activation='relu', padding='same')(encoder)\\nencoder = Conv2D(8, (3, 3), activation='relu', padding='same')(encoder)\\n\\n# Decoder using Conv2DTranspose layers\\ndecoder = Conv2DTranspose(8, (3, 3), activation='relu', padding='same')(encoder)\\ndecoder = Conv2DTranspose(16, (3, 3), activation='relu', padding='same')(decoder)\\ndecoder = Conv2DTranspose(32, (3, 3), activation='relu', padding='same')(decoder)\\n\\n# Final layer to match input shape\\ndecoded = Conv2D(dim3, (3, 3), activation='relu', padding='same')(decoder)\\n\\n# Early Stopping\\nes = EarlyStopping(monitor='val_accuracy', mode='max', verbose=1, patience=20)\\n\\n# Autoencoder\\nautoencoder = Model(input_img, decoded)\\nautoencoder.compile(optimizer='adam', loss='categorical_crossentropy', metrics=['accuracy'])\\n\\nautoencoder.summary()\""
      ]
     },
     "execution_count": 114,
     "metadata": {},
     "output_type": "execute_result"
    }
   ],
   "source": [
    "'''from keras.layers import Input,Dense\n",
    "from keras.models import Model\n",
    "\n",
    "#Create a placeholder for the input\n",
    "dim1 = len(maps[0])\n",
    "dim2 = len(maps[0][0])\n",
    "dim3 = len(maps[0][0][0])\n",
    "\n",
    "#Create a model usign dense layers to predict the output of the autoencoder\n",
    "\n",
    "# Assuming dim1, dim2, and dim3 represent your input dimensions\n",
    "input_img = Input(shape=(dim1, dim2, dim3))\n",
    "\n",
    "# Encoder with dense layers\n",
    "encoder = Dense(dim3, activation='relu')(input_img)\n",
    "encoder = Dense(dim3/2, activation='relu')(encoder)\n",
    "encoder = Dense(dim3/4, activation='relu')(encoder)\n",
    "\n",
    "# Decoder with dense layers\n",
    "decoder = Dense(dim3/4, activation='relu')(encoder)\n",
    "decoder = Dense(dim3/2, activation='relu')(decoder)\n",
    "decoder = Dense(dim3, activation='relu')(decoder)\n",
    "#decoder = Dense(dim3, activation='sigmoid')(decoder)\n",
    "\n",
    "#Early Stopping\n",
    "from keras.callbacks import EarlyStopping\n",
    "es = EarlyStopping(monitor='val_accuracy', mode='max', verbose=1, patience=10)\n",
    "# Autoencoder\n",
    "autoencoder = Model(input_img, decoder)\n",
    "autoencoder.compile(optimizer='adam', loss='categorical_crossentropy',metrics=['accuracy'])\n",
    "\n",
    "autoencoder.summary()'''\n",
    "\n",
    "\n",
    "'''from keras.layers import Input, Conv2D, Conv2DTranspose, Reshape\n",
    "from keras.models import Model\n",
    "from keras.callbacks import EarlyStopping\n",
    "\n",
    "# Assuming dim1, dim2, and dim3 represent your input dimensions\n",
    "dim1 = len(maps[0])\n",
    "dim2 = len(maps[0][0])\n",
    "dim3 = len(maps[0][0][0])\n",
    "\n",
    "input_img = Input(shape=(dim1, dim2, dim3))\n",
    "\n",
    "# Encoder using Conv2D layers\n",
    "# Adjust the number of filters and kernel sizes as needed\n",
    "encoder = Conv2D(32, (3, 3), activation='relu', padding='same')(input_img)\n",
    "encoder = Conv2D(16, (3, 3), activation='relu', padding='same')(encoder)\n",
    "encoder = Conv2D(8, (3, 3), activation='relu', padding='same')(encoder)\n",
    "\n",
    "# Decoder using Conv2DTranspose layers\n",
    "decoder = Conv2DTranspose(8, (3, 3), activation='relu', padding='same')(encoder)\n",
    "decoder = Conv2DTranspose(16, (3, 3), activation='relu', padding='same')(decoder)\n",
    "decoder = Conv2DTranspose(32, (3, 3), activation='relu', padding='same')(decoder)\n",
    "\n",
    "# Final layer to match input shape\n",
    "decoded = Conv2D(dim3, (3, 3), activation='relu', padding='same')(decoder)\n",
    "\n",
    "# Early Stopping\n",
    "es = EarlyStopping(monitor='val_accuracy', mode='max', verbose=1, patience=20)\n",
    "\n",
    "# Autoencoder\n",
    "autoencoder = Model(input_img, decoded)\n",
    "autoencoder.compile(optimizer='adam', loss='categorical_crossentropy', metrics=['accuracy'])\n",
    "\n",
    "autoencoder.summary()'''\n"
   ]
  },
  {
   "cell_type": "code",
   "execution_count": null,
   "metadata": {},
   "outputs": [],
   "source": [
    "#maps[0].shape"
   ]
  },
  {
   "cell_type": "code",
   "execution_count": null,
   "metadata": {},
   "outputs": [],
   "source": [
    "#Reshape the stacked_arrays to 4D array\n",
    "#maps = np.reshape(maps, (len(maps),dim1, dim2, dim3))\n",
    "\n",
    "#maps.shape"
   ]
  },
  {
   "cell_type": "code",
   "execution_count": null,
   "metadata": {},
   "outputs": [
    {
     "data": {
      "text/plain": [
       "'autoencoder.fit(maps, maps,\\n                epochs=100,\\n                shuffle=True,\\n                validation_split=0.2,callbacks=[es])'"
      ]
     },
     "execution_count": 117,
     "metadata": {},
     "output_type": "execute_result"
    }
   ],
   "source": [
    "#fit the autoencoder model\n",
    "'''autoencoder.fit(maps, maps,\n",
    "                epochs=100,\n",
    "                shuffle=True,\n",
    "                validation_split=0.2,callbacks=[es])'''"
   ]
  },
  {
   "cell_type": "code",
   "execution_count": null,
   "metadata": {},
   "outputs": [
    {
     "name": "stdout",
     "output_type": "stream",
     "text": [
      "305/305 [==============================] - 85s 275ms/step\n"
     ]
    },
    {
     "data": {
      "text/plain": [
       "(9738, 33, 33, 53)"
      ]
     },
     "execution_count": 118,
     "metadata": {},
     "output_type": "execute_result"
    }
   ],
   "source": [
    "#Use the autoencoder model to predict the output\n",
    "\n",
    "#decoded_imgs = autoencoder.predict(maps)\n",
    "decoded_imgs = autoencoder.predict(maps)\n",
    "\n",
    "decoded_imgs.shape\n",
    "\n"
   ]
  },
  {
   "cell_type": "code",
   "execution_count": null,
   "metadata": {},
   "outputs": [
    {
     "data": {
      "text/plain": [
       "(9738, 33, 33, 53)"
      ]
     },
     "execution_count": 119,
     "metadata": {},
     "output_type": "execute_result"
    }
   ],
   "source": [
    "#Reshape the decoded_imgs to 3D array, consider first dim as batch size, second and third as image dimensions and last as channels\n",
    "\n",
    "decoded_imgs = np.reshape(decoded_imgs, (len(decoded_imgs),dim1, dim2, dim3))\n",
    "\n",
    "decoded_imgs.shape\n"
   ]
  },
  {
   "cell_type": "code",
   "execution_count": null,
   "metadata": {},
   "outputs": [
    {
     "name": "stdout",
     "output_type": "stream",
     "text": [
      "(33, 33, 53)\n"
     ]
    }
   ],
   "source": [
    "#print values of the first array in the decoded_imgs container\n",
    "print(decoded_imgs[0].shape)"
   ]
  },
  {
   "cell_type": "code",
   "execution_count": null,
   "metadata": {},
   "outputs": [],
   "source": [
    "#Unstack decoded_imgs[0] array container and store them in layers\n",
    "layers = []\n",
    "\n",
    "for i in range(len(decoded_imgs)):\n",
    "    layers.append(np.split(decoded_imgs[i], listOfCutPoints, axis=2))"
   ]
  },
  {
   "cell_type": "code",
   "execution_count": null,
   "metadata": {},
   "outputs": [],
   "source": [
    "#apply the inverse of to_categorical to each array in the unstacked_arrays container\n",
    "for i in range(len(layers)):\n",
    "    for j in range(len(layers[i])):\n",
    "        layers[i][j] = np.argmax(layers[i][j], axis=2)"
   ]
  },
  {
   "cell_type": "markdown",
   "metadata": {},
   "source": [
    "# RESUELVE LOS 2 ERRORES DE ABAJO Y DEBIERAS TENER UN MAPA NUEVO"
   ]
  },
  {
   "cell_type": "code",
   "execution_count": null,
   "metadata": {},
   "outputs": [],
   "source": [
    "#Create a funtion to reshape bidiimensional arrays to unidimensional arrays\n",
    "def reshape_to_unidimensional(array):\n",
    "    reshaped_array = []\n",
    "    for i in range(len(array)):\n",
    "        reshaped_array.append(np.reshape(array[i], (array[i].shape[0]*array[i].shape[1])))\n",
    "    return reshaped_array"
   ]
  },
  {
   "cell_type": "code",
   "execution_count": null,
   "metadata": {},
   "outputs": [],
   "source": [
    "#Create an array to store map data as unidimensional arrays\n",
    "unidimensional_maps = []\n",
    "\n",
    "#Reshape each map in layers to unidimensional arrays and store them in unidimensional_maps\n",
    "for i in range(len(layers)):\n",
    "    unidimensional_maps.append(reshape_to_unidimensional(layers[i]))"
   ]
  },
  {
   "cell_type": "code",
   "execution_count": null,
   "metadata": {},
   "outputs": [],
   "source": [
    "#Change the values in the unidimensional_maps to the original values\n",
    "\n",
    "for i in range(len(unidimensional_maps)):\n",
    "    for j in range(len(unidimensional_maps[i])):\n",
    "        unidimensional_maps[i][j] = unidimensional_maps[i][j].astype(int)\n",
    "        unidimensional_maps[i][j] = unidimensional_maps[i][j].tolist()\n",
    "        unidimensional_maps[i][j] = utils.get_original_values_from_transformed(unidimensional_maps[i][j], rank_to_value_list[j])"
   ]
  },
  {
   "cell_type": "code",
   "execution_count": null,
   "metadata": {},
   "outputs": [
    {
     "data": {
      "text/plain": [
       "6"
      ]
     },
     "execution_count": 126,
     "metadata": {},
     "output_type": "execute_result"
    }
   ],
   "source": [
    "len(unidimensional_maps[0])\n",
    "len(unidimensional_maps[0])"
   ]
  },
  {
   "cell_type": "code",
   "execution_count": null,
   "metadata": {},
   "outputs": [
    {
     "name": "stderr",
     "output_type": "stream",
     "text": [
      "C:\\Users\\dsolj\\AppData\\Local\\Temp\\ipykernel_6604\\4031261971.py:5: PerformanceWarning: DataFrame is highly fragmented.  This is usually the result of calling `frame.insert` many times, which has poor performance.  Consider joining all columns at once using pd.concat(axis=1) instead. To get a de-fragmented frame, use `newframe = frame.copy()`\n",
      "  unidimensional_maps_df[i] = unidimensional_maps[i]\n"
     ]
    },
    {
     "data": {
      "text/html": [
       "<div>\n",
       "<style scoped>\n",
       "    .dataframe tbody tr th:only-of-type {\n",
       "        vertical-align: middle;\n",
       "    }\n",
       "\n",
       "    .dataframe tbody tr th {\n",
       "        vertical-align: top;\n",
       "    }\n",
       "\n",
       "    .dataframe thead th {\n",
       "        text-align: right;\n",
       "    }\n",
       "</style>\n",
       "<table border=\"1\" class=\"dataframe\">\n",
       "  <thead>\n",
       "    <tr style=\"text-align: right;\">\n",
       "      <th></th>\n",
       "      <th>0</th>\n",
       "      <th>1</th>\n",
       "      <th>2</th>\n",
       "      <th>3</th>\n",
       "      <th>4</th>\n",
       "      <th>5</th>\n",
       "      <th>6</th>\n",
       "      <th>7</th>\n",
       "      <th>8</th>\n",
       "      <th>9</th>\n",
       "      <th>...</th>\n",
       "      <th>9728</th>\n",
       "      <th>9729</th>\n",
       "      <th>9730</th>\n",
       "      <th>9731</th>\n",
       "      <th>9732</th>\n",
       "      <th>9733</th>\n",
       "      <th>9734</th>\n",
       "      <th>9735</th>\n",
       "      <th>9736</th>\n",
       "      <th>9737</th>\n",
       "    </tr>\n",
       "  </thead>\n",
       "  <tbody>\n",
       "    <tr>\n",
       "      <th>0</th>\n",
       "      <td>[0, 0, 0, 0, 0, 0, 0, 0, 0, 0, 0, 0, 0, 0, 0, ...</td>\n",
       "      <td>[0, 0, 0, 0, 0, 0, 0, 0, 0, 0, 0, 0, 0, 0, 0, ...</td>\n",
       "      <td>[0, 0, 0, 0, 0, 0, 0, 0, 0, 0, 0, 0, 0, 0, 0, ...</td>\n",
       "      <td>[0, 0, 0, 0, 0, 0, 0, 0, 0, 0, 0, 0, 0, 0, 0, ...</td>\n",
       "      <td>[0, 0, 0, 0, 0, 0, 0, 0, 0, 0, 0, 0, 0, 0, 0, ...</td>\n",
       "      <td>[0, 0, 0, 0, 0, 0, 0, 0, 0, 0, 0, 0, 0, 0, 0, ...</td>\n",
       "      <td>[0, 0, 0, 0, 0, 0, 0, 0, 0, 0, 0, 0, 0, 0, 0, ...</td>\n",
       "      <td>[0, 0, 0, 0, 0, 0, 0, 0, 0, 0, 0, 0, 0, 0, 0, ...</td>\n",
       "      <td>[0, 0, 0, 0, 0, 0, 0, 0, 0, 0, 0, 0, 0, 0, 0, ...</td>\n",
       "      <td>[0, 0, 0, 0, 0, 0, 0, 0, 0, 0, 0, 0, 0, 0, 0, ...</td>\n",
       "      <td>...</td>\n",
       "      <td>[0, 0, 0, 0, 0, 0, 0, 0, 0, 0, 0, 0, 0, 0, 0, ...</td>\n",
       "      <td>[0, 0, 0, 0, 0, 0, 0, 0, 0, 0, 0, 0, 0, 0, 0, ...</td>\n",
       "      <td>[0, 0, 0, 0, 0, 0, 0, 0, 0, 0, 0, 0, 0, 0, 0, ...</td>\n",
       "      <td>[0, 0, 0, 0, 0, 0, 0, 0, 0, 0, 0, 0, 0, 0, 0, ...</td>\n",
       "      <td>[0, 0, 0, 0, 0, 0, 0, 0, 0, 0, 0, 0, 0, 0, 0, ...</td>\n",
       "      <td>[0, 0, 0, 0, 0, 0, 0, 0, 0, 0, 0, 0, 0, 0, 0, ...</td>\n",
       "      <td>[0, 0, 0, 0, 0, 0, 0, 0, 0, 0, 0, 0, 0, 0, 0, ...</td>\n",
       "      <td>[0, 0, 0, 0, 0, 0, 0, 0, 0, 0, 0, 0, 0, 0, 0, ...</td>\n",
       "      <td>[0, 0, 0, 0, 0, 0, 0, 0, 0, 0, 0, 0, 0, 0, 0, ...</td>\n",
       "      <td>[0, 0, 0, 0, 0, 0, 0, 0, 0, 0, 0, 0, 0, 0, 0, ...</td>\n",
       "    </tr>\n",
       "    <tr>\n",
       "      <th>1</th>\n",
       "      <td>[2, 0, 0, 0, 2, 0, 0, 0, 0, 0, 0, 0, 0, 2, 2, ...</td>\n",
       "      <td>[2, 0, 0, 0, 2, 0, 0, 0, 0, 0, 0, 0, 0, 2, 2, ...</td>\n",
       "      <td>[2, 0, 0, 0, 2, 0, 0, 0, 0, 0, 0, 0, 0, 2, 2, ...</td>\n",
       "      <td>[2, 0, 0, 0, 2, 0, 0, 0, 0, 0, 0, 0, 0, 2, 2, ...</td>\n",
       "      <td>[1, 2, 3, 2, 2, 1, 1, 2, 1, 2, 2, 2, 2, 2, 2, ...</td>\n",
       "      <td>[2, 0, 0, 0, 2, 0, 0, 0, 0, 0, 0, 0, 0, 2, 2, ...</td>\n",
       "      <td>[2, 0, 0, 0, 2, 0, 0, 0, 0, 0, 0, 0, 0, 2, 2, ...</td>\n",
       "      <td>[2, 0, 0, 2, 2, 0, 0, 0, 0, 2, 2, 0, 0, 2, 2, ...</td>\n",
       "      <td>[2, 0, 0, 0, 2, 0, 0, 0, 0, 0, 0, 0, 0, 2, 2, ...</td>\n",
       "      <td>[2, 2, 0, 2, 2, 0, 0, 0, 0, 2, 2, 0, 0, 2, 2, ...</td>\n",
       "      <td>...</td>\n",
       "      <td>[2, 2, 0, 2, 2, 1, 0, 2, 2, 2, 2, 2, 2, 2, 2, ...</td>\n",
       "      <td>[2, 2, 3, 2, 2, 1, 1, 2, 2, 2, 2, 2, 2, 2, 2, ...</td>\n",
       "      <td>[2, 2, 3, 2, 2, 1, 1, 2, 1, 2, 2, 2, 2, 2, 2, ...</td>\n",
       "      <td>[2, 2, 0, 2, 2, 1, 0, 2, 2, 2, 2, 2, 2, 2, 2, ...</td>\n",
       "      <td>[1, 2, 3, 2, 2, 1, 1, 2, 1, 2, 2, 2, 2, 2, 2, ...</td>\n",
       "      <td>[1, 3, 1, 2, 2, 1, 1, 2, 1, 2, 2, 2, 2, 2, 2, ...</td>\n",
       "      <td>[1, 2, 3, 2, 2, 1, 1, 2, 1, 2, 2, 2, 2, 2, 2, ...</td>\n",
       "      <td>[2, 2, 0, 2, 2, 1, 0, 2, 2, 2, 2, 2, 2, 2, 2, ...</td>\n",
       "      <td>[2, 2, 0, 2, 2, 1, 0, 2, 2, 2, 2, 2, 2, 2, 2, ...</td>\n",
       "      <td>[2, 2, 0, 2, 2, 1, 0, 2, 2, 2, 2, 2, 2, 2, 2, ...</td>\n",
       "    </tr>\n",
       "    <tr>\n",
       "      <th>2</th>\n",
       "      <td>[1, 1, 1, 1, 1, 1, 1, 1, 1, 1, 1, 1, 1, 1, 1, ...</td>\n",
       "      <td>[1, 1, 1, 1, 1, 1, 1, 1, 1, 1, 1, 1, 1, 1, 1, ...</td>\n",
       "      <td>[1, 1, 1, 1, 1, 1, 1, 1, 1, 1, 1, 1, 1, 1, 1, ...</td>\n",
       "      <td>[1, 1, 1, 1, 1, 1, 1, 1, 1, 1, 1, 1, 1, 1, 1, ...</td>\n",
       "      <td>[1, 1, 1, 1, 1, 1, 1, 1, 1, 1, 1, 1, 1, 1, 1, ...</td>\n",
       "      <td>[1, 1, 1, 1, 1, 1, 1, 1, 1, 1, 1, 1, 1, 1, 1, ...</td>\n",
       "      <td>[1, 1, 1, 1, 1, 1, 1, 1, 1, 1, 1, 1, 1, 1, 1, ...</td>\n",
       "      <td>[1, 1, 1, 1, 1, 1, 1, 1, 1, 1, 1, 1, 1, 1, 1, ...</td>\n",
       "      <td>[1, 1, 1, 1, 1, 1, 1, 1, 1, 1, 1, 1, 1, 1, 1, ...</td>\n",
       "      <td>[1, 1, 1, 1, 1, 1, 1, 1, 1, 1, 1, 1, 1, 1, 1, ...</td>\n",
       "      <td>...</td>\n",
       "      <td>[1, 1, 1, 1, 1, 1, 1, 1, 1, 1, 1, 1, 1, 1, 1, ...</td>\n",
       "      <td>[1, 1, 1, 1, 1, 1, 1, 1, 1, 1, 1, 1, 1, 1, 1, ...</td>\n",
       "      <td>[1, 1, 1, 1, 1, 1, 1, 1, 1, 1, 1, 1, 1, 1, 1, ...</td>\n",
       "      <td>[1, 1, 1, 1, 1, 1, 1, 1, 1, 1, 1, 1, 1, 1, 1, ...</td>\n",
       "      <td>[1, 1, 1, 1, 1, 1, 1, 1, 1, 1, 1, 1, 1, 1, 1, ...</td>\n",
       "      <td>[1, 1, 1, 1, 1, 1, 1, 1, 1, 1, 1, 1, 1, 1, 1, ...</td>\n",
       "      <td>[1, 1, 1, 1, 1, 1, 1, 1, 1, 1, 1, 1, 1, 1, 1, ...</td>\n",
       "      <td>[1, 1, 1, 1, 1, 1, 1, 1, 1, 1, 1, 1, 1, 1, 1, ...</td>\n",
       "      <td>[1, 1, 1, 1, 1, 1, 1, 1, 1, 1, 1, 1, 1, 1, 1, ...</td>\n",
       "      <td>[1, 1, 1, 1, 1, 1, 1, 1, 1, 1, 1, 1, 1, 1, 1, ...</td>\n",
       "    </tr>\n",
       "    <tr>\n",
       "      <th>3</th>\n",
       "      <td>[0, 0, 0, 0, 0, 0, 0, 0, 0, 0, 0, 0, 0, 0, 4, ...</td>\n",
       "      <td>[0, 0, 0, 0, 0, 0, 0, 0, 0, 0, 0, 0, 0, 0, 4, ...</td>\n",
       "      <td>[0, 0, 0, 0, 0, 0, 0, 0, 0, 0, 0, 0, 0, 0, 4, ...</td>\n",
       "      <td>[0, 0, 0, 0, 0, 0, 0, 0, 0, 0, 0, 0, 0, 0, 4, ...</td>\n",
       "      <td>[0, 0, 0, 0, 0, 0, 0, 0, 0, 0, 0, 0, 0, 0, 4, ...</td>\n",
       "      <td>[0, 0, 0, 0, 0, 0, 0, 0, 0, 0, 0, 0, 0, 0, 4, ...</td>\n",
       "      <td>[0, 0, 0, 0, 0, 0, 0, 0, 0, 0, 0, 0, 0, 0, 4, ...</td>\n",
       "      <td>[0, 0, 0, 0, 0, 0, 0, 0, 0, 0, 0, 0, 0, 0, 4, ...</td>\n",
       "      <td>[0, 0, 0, 0, 0, 0, 0, 0, 0, 0, 0, 0, 0, 0, 4, ...</td>\n",
       "      <td>[0, 0, 0, 0, 0, 0, 0, 0, 0, 0, 0, 0, 0, 0, 4, ...</td>\n",
       "      <td>...</td>\n",
       "      <td>[0, 0, 0, 0, 0, 0, 0, 0, 0, 0, 0, 0, 0, 0, 4, ...</td>\n",
       "      <td>[0, 0, 0, 0, 0, 0, 0, 0, 0, 0, 0, 0, 0, 0, 4, ...</td>\n",
       "      <td>[0, 0, 0, 0, 0, 0, 0, 0, 0, 0, 0, 0, 0, 0, 4, ...</td>\n",
       "      <td>[0, 0, 0, 0, 0, 0, 0, 0, 0, 0, 0, 0, 0, 0, 4, ...</td>\n",
       "      <td>[0, 0, 0, 0, 0, 0, 0, 0, 0, 0, 0, 0, 0, 0, 4, ...</td>\n",
       "      <td>[0, 0, 0, 0, 0, 0, 0, 0, 0, 0, 0, 0, 0, 0, 4, ...</td>\n",
       "      <td>[0, 0, 0, 0, 0, 0, 0, 0, 0, 0, 0, 0, 0, 0, 4, ...</td>\n",
       "      <td>[0, 0, 0, 0, 0, 0, 0, 0, 0, 0, 0, 0, 0, 0, 4, ...</td>\n",
       "      <td>[0, 0, 0, 0, 0, 0, 0, 0, 0, 0, 0, 0, 0, 0, 4, ...</td>\n",
       "      <td>[0, 0, 0, 0, 0, 0, 0, 0, 0, 0, 0, 0, 0, 0, 4, ...</td>\n",
       "    </tr>\n",
       "    <tr>\n",
       "      <th>4</th>\n",
       "      <td>[1, 1, 1, 1, 1, 1, 1, 1, 1, 1, 1, 1, 1, 8, 1, ...</td>\n",
       "      <td>[1, 1, 1, 1, 1, 1, 1, 1, 1, 1, 1, 1, 1, 1, 1, ...</td>\n",
       "      <td>[1, 1, 1, 1, 1, 1, 1, 1, 1, 1, 8, 1, 1, 8, 1, ...</td>\n",
       "      <td>[1, 1, 1, 1, 1, 1, 1, 1, 1, 1, 1, 1, 1, 1, 1, ...</td>\n",
       "      <td>[1, 1, 1, 1, 1, 1, 1, 1, 1, 1, 1, 1, 1, 1, 1, ...</td>\n",
       "      <td>[1, 1, 1, 1, 1, 1, 1, 1, 1, 1, 8, 1, 1, 8, 1, ...</td>\n",
       "      <td>[1, 1, 1, 1, 1, 1, 1, 1, 1, 1, 1, 1, 1, 8, 1, ...</td>\n",
       "      <td>[1, 1, 1, 1, 1, 1, 1, 1, 1, 1, 1, 1, 1, 1, 1, ...</td>\n",
       "      <td>[1, 1, 1, 1, 1, 1, 1, 1, 1, 1, 1, 1, 1, 1, 1, ...</td>\n",
       "      <td>[1, 1, 1, 1, 1, 1, 1, 1, 1, 1, 1, 1, 1, 1, 1, ...</td>\n",
       "      <td>...</td>\n",
       "      <td>[1, 1, 1, 1, 1, 1, 1, 1, 1, 1, 1, 1, 1, 1, 1, ...</td>\n",
       "      <td>[1, 1, 1, 1, 1, 1, 1, 1, 1, 1, 1, 1, 1, 1, 1, ...</td>\n",
       "      <td>[1, 1, 1, 1, 1, 1, 1, 1, 1, 1, 1, 1, 1, 1, 1, ...</td>\n",
       "      <td>[1, 1, 1, 1, 1, 1, 1, 1, 1, 1, 1, 1, 1, 1, 1, ...</td>\n",
       "      <td>[1, 1, 1, 1, 1, 1, 1, 1, 1, 1, 1, 1, 1, 1, 1, ...</td>\n",
       "      <td>[1, 1, 1, 1, 1, 1, 1, 1, 1, 1, 1, 1, 1, 1, 1, ...</td>\n",
       "      <td>[1, 1, 1, 1, 1, 1, 1, 1, 1, 1, 1, 1, 1, 1, 1, ...</td>\n",
       "      <td>[1, 1, 1, 1, 1, 1, 1, 1, 1, 1, 1, 1, 1, 1, 1, ...</td>\n",
       "      <td>[1, 1, 1, 1, 1, 1, 1, 1, 1, 1, 1, 1, 1, 1, 1, ...</td>\n",
       "      <td>[1, 1, 1, 1, 1, 1, 1, 1, 1, 1, 1, 1, 1, 1, 1, ...</td>\n",
       "    </tr>\n",
       "  </tbody>\n",
       "</table>\n",
       "<p>5 rows × 9738 columns</p>\n",
       "</div>"
      ],
      "text/plain": [
       "                                                0     \\\n",
       "0  [0, 0, 0, 0, 0, 0, 0, 0, 0, 0, 0, 0, 0, 0, 0, ...   \n",
       "1  [2, 0, 0, 0, 2, 0, 0, 0, 0, 0, 0, 0, 0, 2, 2, ...   \n",
       "2  [1, 1, 1, 1, 1, 1, 1, 1, 1, 1, 1, 1, 1, 1, 1, ...   \n",
       "3  [0, 0, 0, 0, 0, 0, 0, 0, 0, 0, 0, 0, 0, 0, 4, ...   \n",
       "4  [1, 1, 1, 1, 1, 1, 1, 1, 1, 1, 1, 1, 1, 8, 1, ...   \n",
       "\n",
       "                                                1     \\\n",
       "0  [0, 0, 0, 0, 0, 0, 0, 0, 0, 0, 0, 0, 0, 0, 0, ...   \n",
       "1  [2, 0, 0, 0, 2, 0, 0, 0, 0, 0, 0, 0, 0, 2, 2, ...   \n",
       "2  [1, 1, 1, 1, 1, 1, 1, 1, 1, 1, 1, 1, 1, 1, 1, ...   \n",
       "3  [0, 0, 0, 0, 0, 0, 0, 0, 0, 0, 0, 0, 0, 0, 4, ...   \n",
       "4  [1, 1, 1, 1, 1, 1, 1, 1, 1, 1, 1, 1, 1, 1, 1, ...   \n",
       "\n",
       "                                                2     \\\n",
       "0  [0, 0, 0, 0, 0, 0, 0, 0, 0, 0, 0, 0, 0, 0, 0, ...   \n",
       "1  [2, 0, 0, 0, 2, 0, 0, 0, 0, 0, 0, 0, 0, 2, 2, ...   \n",
       "2  [1, 1, 1, 1, 1, 1, 1, 1, 1, 1, 1, 1, 1, 1, 1, ...   \n",
       "3  [0, 0, 0, 0, 0, 0, 0, 0, 0, 0, 0, 0, 0, 0, 4, ...   \n",
       "4  [1, 1, 1, 1, 1, 1, 1, 1, 1, 1, 8, 1, 1, 8, 1, ...   \n",
       "\n",
       "                                                3     \\\n",
       "0  [0, 0, 0, 0, 0, 0, 0, 0, 0, 0, 0, 0, 0, 0, 0, ...   \n",
       "1  [2, 0, 0, 0, 2, 0, 0, 0, 0, 0, 0, 0, 0, 2, 2, ...   \n",
       "2  [1, 1, 1, 1, 1, 1, 1, 1, 1, 1, 1, 1, 1, 1, 1, ...   \n",
       "3  [0, 0, 0, 0, 0, 0, 0, 0, 0, 0, 0, 0, 0, 0, 4, ...   \n",
       "4  [1, 1, 1, 1, 1, 1, 1, 1, 1, 1, 1, 1, 1, 1, 1, ...   \n",
       "\n",
       "                                                4     \\\n",
       "0  [0, 0, 0, 0, 0, 0, 0, 0, 0, 0, 0, 0, 0, 0, 0, ...   \n",
       "1  [1, 2, 3, 2, 2, 1, 1, 2, 1, 2, 2, 2, 2, 2, 2, ...   \n",
       "2  [1, 1, 1, 1, 1, 1, 1, 1, 1, 1, 1, 1, 1, 1, 1, ...   \n",
       "3  [0, 0, 0, 0, 0, 0, 0, 0, 0, 0, 0, 0, 0, 0, 4, ...   \n",
       "4  [1, 1, 1, 1, 1, 1, 1, 1, 1, 1, 1, 1, 1, 1, 1, ...   \n",
       "\n",
       "                                                5     \\\n",
       "0  [0, 0, 0, 0, 0, 0, 0, 0, 0, 0, 0, 0, 0, 0, 0, ...   \n",
       "1  [2, 0, 0, 0, 2, 0, 0, 0, 0, 0, 0, 0, 0, 2, 2, ...   \n",
       "2  [1, 1, 1, 1, 1, 1, 1, 1, 1, 1, 1, 1, 1, 1, 1, ...   \n",
       "3  [0, 0, 0, 0, 0, 0, 0, 0, 0, 0, 0, 0, 0, 0, 4, ...   \n",
       "4  [1, 1, 1, 1, 1, 1, 1, 1, 1, 1, 8, 1, 1, 8, 1, ...   \n",
       "\n",
       "                                                6     \\\n",
       "0  [0, 0, 0, 0, 0, 0, 0, 0, 0, 0, 0, 0, 0, 0, 0, ...   \n",
       "1  [2, 0, 0, 0, 2, 0, 0, 0, 0, 0, 0, 0, 0, 2, 2, ...   \n",
       "2  [1, 1, 1, 1, 1, 1, 1, 1, 1, 1, 1, 1, 1, 1, 1, ...   \n",
       "3  [0, 0, 0, 0, 0, 0, 0, 0, 0, 0, 0, 0, 0, 0, 4, ...   \n",
       "4  [1, 1, 1, 1, 1, 1, 1, 1, 1, 1, 1, 1, 1, 8, 1, ...   \n",
       "\n",
       "                                                7     \\\n",
       "0  [0, 0, 0, 0, 0, 0, 0, 0, 0, 0, 0, 0, 0, 0, 0, ...   \n",
       "1  [2, 0, 0, 2, 2, 0, 0, 0, 0, 2, 2, 0, 0, 2, 2, ...   \n",
       "2  [1, 1, 1, 1, 1, 1, 1, 1, 1, 1, 1, 1, 1, 1, 1, ...   \n",
       "3  [0, 0, 0, 0, 0, 0, 0, 0, 0, 0, 0, 0, 0, 0, 4, ...   \n",
       "4  [1, 1, 1, 1, 1, 1, 1, 1, 1, 1, 1, 1, 1, 1, 1, ...   \n",
       "\n",
       "                                                8     \\\n",
       "0  [0, 0, 0, 0, 0, 0, 0, 0, 0, 0, 0, 0, 0, 0, 0, ...   \n",
       "1  [2, 0, 0, 0, 2, 0, 0, 0, 0, 0, 0, 0, 0, 2, 2, ...   \n",
       "2  [1, 1, 1, 1, 1, 1, 1, 1, 1, 1, 1, 1, 1, 1, 1, ...   \n",
       "3  [0, 0, 0, 0, 0, 0, 0, 0, 0, 0, 0, 0, 0, 0, 4, ...   \n",
       "4  [1, 1, 1, 1, 1, 1, 1, 1, 1, 1, 1, 1, 1, 1, 1, ...   \n",
       "\n",
       "                                                9     ...  \\\n",
       "0  [0, 0, 0, 0, 0, 0, 0, 0, 0, 0, 0, 0, 0, 0, 0, ...  ...   \n",
       "1  [2, 2, 0, 2, 2, 0, 0, 0, 0, 2, 2, 0, 0, 2, 2, ...  ...   \n",
       "2  [1, 1, 1, 1, 1, 1, 1, 1, 1, 1, 1, 1, 1, 1, 1, ...  ...   \n",
       "3  [0, 0, 0, 0, 0, 0, 0, 0, 0, 0, 0, 0, 0, 0, 4, ...  ...   \n",
       "4  [1, 1, 1, 1, 1, 1, 1, 1, 1, 1, 1, 1, 1, 1, 1, ...  ...   \n",
       "\n",
       "                                                9728  \\\n",
       "0  [0, 0, 0, 0, 0, 0, 0, 0, 0, 0, 0, 0, 0, 0, 0, ...   \n",
       "1  [2, 2, 0, 2, 2, 1, 0, 2, 2, 2, 2, 2, 2, 2, 2, ...   \n",
       "2  [1, 1, 1, 1, 1, 1, 1, 1, 1, 1, 1, 1, 1, 1, 1, ...   \n",
       "3  [0, 0, 0, 0, 0, 0, 0, 0, 0, 0, 0, 0, 0, 0, 4, ...   \n",
       "4  [1, 1, 1, 1, 1, 1, 1, 1, 1, 1, 1, 1, 1, 1, 1, ...   \n",
       "\n",
       "                                                9729  \\\n",
       "0  [0, 0, 0, 0, 0, 0, 0, 0, 0, 0, 0, 0, 0, 0, 0, ...   \n",
       "1  [2, 2, 3, 2, 2, 1, 1, 2, 2, 2, 2, 2, 2, 2, 2, ...   \n",
       "2  [1, 1, 1, 1, 1, 1, 1, 1, 1, 1, 1, 1, 1, 1, 1, ...   \n",
       "3  [0, 0, 0, 0, 0, 0, 0, 0, 0, 0, 0, 0, 0, 0, 4, ...   \n",
       "4  [1, 1, 1, 1, 1, 1, 1, 1, 1, 1, 1, 1, 1, 1, 1, ...   \n",
       "\n",
       "                                                9730  \\\n",
       "0  [0, 0, 0, 0, 0, 0, 0, 0, 0, 0, 0, 0, 0, 0, 0, ...   \n",
       "1  [2, 2, 3, 2, 2, 1, 1, 2, 1, 2, 2, 2, 2, 2, 2, ...   \n",
       "2  [1, 1, 1, 1, 1, 1, 1, 1, 1, 1, 1, 1, 1, 1, 1, ...   \n",
       "3  [0, 0, 0, 0, 0, 0, 0, 0, 0, 0, 0, 0, 0, 0, 4, ...   \n",
       "4  [1, 1, 1, 1, 1, 1, 1, 1, 1, 1, 1, 1, 1, 1, 1, ...   \n",
       "\n",
       "                                                9731  \\\n",
       "0  [0, 0, 0, 0, 0, 0, 0, 0, 0, 0, 0, 0, 0, 0, 0, ...   \n",
       "1  [2, 2, 0, 2, 2, 1, 0, 2, 2, 2, 2, 2, 2, 2, 2, ...   \n",
       "2  [1, 1, 1, 1, 1, 1, 1, 1, 1, 1, 1, 1, 1, 1, 1, ...   \n",
       "3  [0, 0, 0, 0, 0, 0, 0, 0, 0, 0, 0, 0, 0, 0, 4, ...   \n",
       "4  [1, 1, 1, 1, 1, 1, 1, 1, 1, 1, 1, 1, 1, 1, 1, ...   \n",
       "\n",
       "                                                9732  \\\n",
       "0  [0, 0, 0, 0, 0, 0, 0, 0, 0, 0, 0, 0, 0, 0, 0, ...   \n",
       "1  [1, 2, 3, 2, 2, 1, 1, 2, 1, 2, 2, 2, 2, 2, 2, ...   \n",
       "2  [1, 1, 1, 1, 1, 1, 1, 1, 1, 1, 1, 1, 1, 1, 1, ...   \n",
       "3  [0, 0, 0, 0, 0, 0, 0, 0, 0, 0, 0, 0, 0, 0, 4, ...   \n",
       "4  [1, 1, 1, 1, 1, 1, 1, 1, 1, 1, 1, 1, 1, 1, 1, ...   \n",
       "\n",
       "                                                9733  \\\n",
       "0  [0, 0, 0, 0, 0, 0, 0, 0, 0, 0, 0, 0, 0, 0, 0, ...   \n",
       "1  [1, 3, 1, 2, 2, 1, 1, 2, 1, 2, 2, 2, 2, 2, 2, ...   \n",
       "2  [1, 1, 1, 1, 1, 1, 1, 1, 1, 1, 1, 1, 1, 1, 1, ...   \n",
       "3  [0, 0, 0, 0, 0, 0, 0, 0, 0, 0, 0, 0, 0, 0, 4, ...   \n",
       "4  [1, 1, 1, 1, 1, 1, 1, 1, 1, 1, 1, 1, 1, 1, 1, ...   \n",
       "\n",
       "                                                9734  \\\n",
       "0  [0, 0, 0, 0, 0, 0, 0, 0, 0, 0, 0, 0, 0, 0, 0, ...   \n",
       "1  [1, 2, 3, 2, 2, 1, 1, 2, 1, 2, 2, 2, 2, 2, 2, ...   \n",
       "2  [1, 1, 1, 1, 1, 1, 1, 1, 1, 1, 1, 1, 1, 1, 1, ...   \n",
       "3  [0, 0, 0, 0, 0, 0, 0, 0, 0, 0, 0, 0, 0, 0, 4, ...   \n",
       "4  [1, 1, 1, 1, 1, 1, 1, 1, 1, 1, 1, 1, 1, 1, 1, ...   \n",
       "\n",
       "                                                9735  \\\n",
       "0  [0, 0, 0, 0, 0, 0, 0, 0, 0, 0, 0, 0, 0, 0, 0, ...   \n",
       "1  [2, 2, 0, 2, 2, 1, 0, 2, 2, 2, 2, 2, 2, 2, 2, ...   \n",
       "2  [1, 1, 1, 1, 1, 1, 1, 1, 1, 1, 1, 1, 1, 1, 1, ...   \n",
       "3  [0, 0, 0, 0, 0, 0, 0, 0, 0, 0, 0, 0, 0, 0, 4, ...   \n",
       "4  [1, 1, 1, 1, 1, 1, 1, 1, 1, 1, 1, 1, 1, 1, 1, ...   \n",
       "\n",
       "                                                9736  \\\n",
       "0  [0, 0, 0, 0, 0, 0, 0, 0, 0, 0, 0, 0, 0, 0, 0, ...   \n",
       "1  [2, 2, 0, 2, 2, 1, 0, 2, 2, 2, 2, 2, 2, 2, 2, ...   \n",
       "2  [1, 1, 1, 1, 1, 1, 1, 1, 1, 1, 1, 1, 1, 1, 1, ...   \n",
       "3  [0, 0, 0, 0, 0, 0, 0, 0, 0, 0, 0, 0, 0, 0, 4, ...   \n",
       "4  [1, 1, 1, 1, 1, 1, 1, 1, 1, 1, 1, 1, 1, 1, 1, ...   \n",
       "\n",
       "                                                9737  \n",
       "0  [0, 0, 0, 0, 0, 0, 0, 0, 0, 0, 0, 0, 0, 0, 0, ...  \n",
       "1  [2, 2, 0, 2, 2, 1, 0, 2, 2, 2, 2, 2, 2, 2, 2, ...  \n",
       "2  [1, 1, 1, 1, 1, 1, 1, 1, 1, 1, 1, 1, 1, 1, 1, ...  \n",
       "3  [0, 0, 0, 0, 0, 0, 0, 0, 0, 0, 0, 0, 0, 0, 4, ...  \n",
       "4  [1, 1, 1, 1, 1, 1, 1, 1, 1, 1, 1, 1, 1, 1, 1, ...  \n",
       "\n",
       "[5 rows x 9738 columns]"
      ]
     },
     "execution_count": 138,
     "metadata": {},
     "output_type": "execute_result"
    }
   ],
   "source": [
    "#Convert the unidimensional_maps to dataframe\n",
    "unidimensional_maps_df = pd.DataFrame()\n",
    "\n",
    "for i in range(len(unidimensional_maps)):\n",
    "    unidimensional_maps_df[i] = unidimensional_maps[i]\n",
    "\n",
    "unidimensional_maps_df.head()"
   ]
  },
  {
   "cell_type": "code",
   "execution_count": null,
   "metadata": {},
   "outputs": [],
   "source": [
    "#plot the first map \n",
    "#map = unidimensional_maps_df[0].copy()\n",
    "map = unidimensional_maps_df[0].copy()\n",
    "\n",
    "#Reshape each list in the numpy array to bidimensional array of dimensions 97x97\n",
    "dimensions = 33\n",
    "\n",
    "for i in range(len(map)):\n",
    "    map[i] = np.reshape(map[i], (dimensions,dimensions))"
   ]
  },
  {
   "cell_type": "code",
   "execution_count": null,
   "metadata": {},
   "outputs": [
    {
     "data": {
      "image/png": "[encoded data removed]",
      "text/plain": [
       "<Figure size 640x480 with 6 Axes>"
      ]
     },
     "metadata": {},
     "output_type": "display_data"
    }
   ],
   "source": [
    "#Use subplots to show all images in the same figure\n",
    "\n",
    "fig, axs = plt.subplots(2,3)\n",
    "axs[0, 0].imshow(map[0])\n",
    "axs[0, 0].set_title('flags')\n",
    "axs[0, 1].imshow(map[1])\n",
    "axs[0, 1].set_title('groundTexture')\n",
    "axs[0, 2].imshow(map[2])\n",
    "axs[0, 2].set_title('groundVariation')\n",
    "axs[1, 0].imshow(map[3])\n",
    "axs[1, 0].set_title('cliffVariation')\n",
    "axs[1, 1].imshow(map[4])\n",
    "axs[1, 1].set_title('cliffTexture')\n",
    "axs[1, 2].imshow(map[5])\n",
    "axs[1, 2].set_title('layerHeight')\n",
    "\n",
    "for ax in axs.flat:\n",
    "    ax.label_outer()\n",
    "\n",
    "plt.show()"
   ]
  },
  {
   "cell_type": "code",
   "execution_count": null,
   "metadata": {},
   "outputs": [
    {
     "data": {
      "image/png": "[encoded data removed]",
      "text/plain": [
       "<Figure size 640x480 with 1 Axes>"
      ]
     },
     "metadata": {},
     "output_type": "display_data"
    }
   ],
   "source": [
    "#Plot each layer in map container in the same figure with transparency (alpha) to see all layers at the same time\n",
    "fig = plt.figure()\n",
    "ax = fig.add_subplot(111)\n",
    "ax.imshow(map[0], alpha=0.5)\n",
    "ax.imshow(map[1], alpha=0.5)\n",
    "ax.imshow(map[2], alpha=0.5)\n",
    "ax.imshow(map[3], alpha=0.5)\n",
    "ax.imshow(map[4], alpha=0.5)\n",
    "ax.imshow(map[5], alpha=0.5)\n",
    "plt.show()"
   ]
  },
  {
   "cell_type": "code",
   "execution_count": null,
   "metadata": {},
   "outputs": [],
   "source": [
    "#Convert the unidimensional_maps_df to a json file\n",
    "#unidimensional_maps_df.to_json(r'D:\\DSI_PCG\\OutputMaps\\maps.json', orient='records')\n",
    "unidimensional_maps_df.to_json(r'C:\\Users\\dsolj\\Desktop\\WARCRAFT_MAPS_JSON_FILES\\OutputMaps\\Dataset\\reconstructed_maps.json', orient='records')"
   ]
  },
  {
   "cell_type": "markdown",
   "metadata": {},
   "source": [
    "NEW map"
   ]
  },
  {
   "cell_type": "code",
   "execution_count": null,
   "metadata": {},
   "outputs": [
    {
     "name": "stdout",
     "output_type": "stream",
     "text": [
      "305/305 [==============================] - 39s 127ms/step\n"
     ]
    }
   ],
   "source": [
    "import random \n",
    "\n",
    "train_latent = encoder.predict(maps)"
   ]
  },
  {
   "cell_type": "code",
   "execution_count": null,
   "metadata": {},
   "outputs": [],
   "source": [
    "latent=[]\n",
    "for i in range(n3):\n",
    "    #latent.append(train_latent[i].flatten())\n",
    "    #latent[i] = np.random.normal(latent[i], 0.1, latent[i].shape) \n",
    "    #val = train_latent[i].flatten()\n",
    "    #add random noise to val\n",
    "    #val = np.random.normal(val, 1000, val.shape)\n",
    "    val = train_latent[i].flatten()\n",
    "    minValue = min(val)\n",
    "    maxValue = max(val)\n",
    "    for j in range(len(val)):\n",
    "        val[j] = random.uniform(minValue,maxValue)\n",
    "    latent.append(val)"
   ]
  },
  {
   "cell_type": "code",
   "execution_count": null,
   "metadata": {},
   "outputs": [
    {
     "name": "stdout",
     "output_type": "stream",
     "text": [
      "16/16 [==============================] - 3s 163ms/step\n"
     ]
    },
    {
     "data": {
      "text/plain": [
       "(500, 33, 33, 53)"
      ]
     },
     "execution_count": 213,
     "metadata": {},
     "output_type": "execute_result"
    }
   ],
   "source": [
    "latent = np.array(latent)\n",
    "\n",
    "predicted_maps = decoder.predict(latent)\n",
    "\n",
    "predicted_maps = np.reshape(predicted_maps, (len(predicted_maps),dim1, dim2, dim3))\n",
    "\n",
    "predicted_maps.shape"
   ]
  },
  {
   "cell_type": "markdown",
   "metadata": {},
   "source": [
    "Use last code"
   ]
  },
  {
   "cell_type": "code",
   "execution_count": null,
   "metadata": {},
   "outputs": [],
   "source": [
    "#Unstack decoded_imgs[0] array container and store them in layers\n",
    "layers = []\n",
    "\n",
    "for i in range(len(predicted_maps)):\n",
    "    layers.append(np.split(predicted_maps[i], listOfCutPoints, axis=2))"
   ]
  },
  {
   "cell_type": "code",
   "execution_count": null,
   "metadata": {},
   "outputs": [],
   "source": [
    "#apply the inverse of to_categorical to each array in the unstacked_arrays container\n",
    "for i in range(len(layers)):\n",
    "    for j in range(len(layers[i])):\n",
    "        layers[i][j] = np.argmax(layers[i][j], axis=2)"
   ]
  },
  {
   "cell_type": "code",
   "execution_count": null,
   "metadata": {},
   "outputs": [],
   "source": [
    "#Create an array to store map data as unidimensional arrays\n",
    "predicted_unidimensional_maps = []\n",
    "\n",
    "#Reshape each map in layers to unidimensional arrays and store them in unidimensional_maps\n",
    "for i in range(len(layers)):\n",
    "    predicted_unidimensional_maps.append(reshape_to_unidimensional(layers[i]))"
   ]
  },
  {
   "cell_type": "code",
   "execution_count": null,
   "metadata": {},
   "outputs": [],
   "source": [
    "#Change the values in the unidimensional_maps to the original values\n",
    "\n",
    "for i in range(len(predicted_unidimensional_maps)):\n",
    "    for j in range(len(predicted_unidimensional_maps[i])):\n",
    "        predicted_unidimensional_maps[i][j] = predicted_unidimensional_maps[i][j].astype(int)\n",
    "        predicted_unidimensional_maps[i][j] = predicted_unidimensional_maps[i][j].tolist()\n",
    "        predicted_unidimensional_maps[i][j] = utils.get_original_values_from_transformed(predicted_unidimensional_maps[i][j], rank_to_value_list[j])"
   ]
  },
  {
   "cell_type": "code",
   "execution_count": null,
   "metadata": {},
   "outputs": [
    {
     "name": "stderr",
     "output_type": "stream",
     "text": [
      "C:\\Users\\dsolj\\AppData\\Local\\Temp\\ipykernel_6604\\2315262023.py:5: PerformanceWarning: DataFrame is highly fragmented.  This is usually the result of calling `frame.insert` many times, which has poor performance.  Consider joining all columns at once using pd.concat(axis=1) instead. To get a de-fragmented frame, use `newframe = frame.copy()`\n",
      "  predicted_unidimensional_maps_df[i] = predicted_unidimensional_maps[i]\n"
     ]
    }
   ],
   "source": [
    "#Convert the unidimensional_maps to dataframe\n",
    "predicted_unidimensional_maps_df = pd.DataFrame()\n",
    "\n",
    "for i in range(len(predicted_unidimensional_maps)):\n",
    "    predicted_unidimensional_maps_df[i] = predicted_unidimensional_maps[i]\n"
   ]
  },
  {
   "cell_type": "code",
   "execution_count": null,
   "metadata": {},
   "outputs": [],
   "source": [
    "predicted_map = predicted_unidimensional_maps_df[0].copy()\n",
    "\n",
    "#Reshape each list in the numpy array to bidimensional array of dimensions 97x97\n",
    "dimensions = 33\n",
    "\n",
    "for i in range(len(predicted_map)):\n",
    "    predicted_map[i] = np.reshape(predicted_map[i], (dimensions,dimensions))"
   ]
  },
  {
   "cell_type": "code",
   "execution_count": null,
   "metadata": {},
   "outputs": [
    {
     "data": {
      "image/png": "[encoded data removed]",
      "text/plain": [
       "<Figure size 640x480 with 6 Axes>"
      ]
     },
     "metadata": {},
     "output_type": "display_data"
    }
   ],
   "source": [
    "#Use subplots to show all images in the same figure\n",
    "\n",
    "fig, axs = plt.subplots(2,3)\n",
    "axs[0, 0].imshow(predicted_map[0])\n",
    "axs[0, 0].set_title('flags')\n",
    "axs[0, 1].imshow(predicted_map[1])\n",
    "axs[0, 1].set_title('groundTexture')\n",
    "axs[0, 2].imshow(predicted_map[2])\n",
    "axs[0, 2].set_title('groundVariation')\n",
    "axs[1, 0].imshow(predicted_map[3])\n",
    "axs[1, 0].set_title('cliffVariation')\n",
    "axs[1, 1].imshow(predicted_map[4])\n",
    "axs[1, 1].set_title('cliffTexture')\n",
    "axs[1, 2].imshow(predicted_map[5])\n",
    "axs[1, 2].set_title('layerHeight')\n",
    "\n",
    "for ax in axs.flat:\n",
    "    ax.label_outer()\n",
    "\n",
    "plt.show()"
   ]
  },
  {
   "cell_type": "code",
   "execution_count": null,
   "metadata": {},
   "outputs": [
    {
     "data": {
      "image/png": "[encoded data removed]",
      "text/plain": [
       "<Figure size 640x480 with 1 Axes>"
      ]
     },
     "metadata": {},
     "output_type": "display_data"
    }
   ],
   "source": [
    "#Plot each layer in map container in the same figure with transparency (alpha) to see all layers at the same time\n",
    "fig = plt.figure()\n",
    "ax = fig.add_subplot(111)\n",
    "ax.imshow(predicted_map[0], alpha=0.5)\n",
    "ax.imshow(predicted_map[1], alpha=0.5)\n",
    "ax.imshow(predicted_map[2], alpha=0.5)\n",
    "ax.imshow(predicted_map[3], alpha=0.5)\n",
    "ax.imshow(predicted_map[4], alpha=0.5)\n",
    "ax.imshow(predicted_map[5], alpha=0.5)\n",
    "plt.show()"
   ]
  },
  {
   "cell_type": "code",
   "execution_count": null,
   "metadata": {},
   "outputs": [],
   "source": [
    "predicted_unidimensional_maps_df.to_json(r'C:\\Users\\dsolj\\Desktop\\WARCRAFT_MAPS_JSON_FILES\\OutputMaps\\Dataset\\predicted_maps.json', orient='records')"
   ]
  }
 ],
 "metadata": {
  "kernelspec": {
   "display_name": "Python 3",
   "language": "python",
   "name": "python3"
  },
  "language_info": {
   "codemirror_mode": {
    "name": "ipython",
    "version": 3
   },
   "file_extension": ".py",
   "mimetype": "text/x-python",
   "name": "python",
   "nbconvert_exporter": "python",
   "pygments_lexer": "ipython3",
   "version": "3.10.11"
  }
 },
 "nbformat": 4,
 "nbformat_minor": 2
}
